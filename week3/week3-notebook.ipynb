{
 "cells": [
  {
   "cell_type": "markdown",
   "id": "732d28bc-c2de-4a09-955c-058e574df66a",
   "metadata": {},
   "source": [
    "# Week 3 Notes"
   ]
  },
  {
   "cell_type": "code",
   "execution_count": null,
   "id": "4e19e091-3509-4d52-ba2f-ca022f45674b",
   "metadata": {},
   "outputs": [],
   "source": [
    "pip install -r ../requirements_week3.txt"
   ]
  },
  {
   "cell_type": "markdown",
   "id": "c0938bc8-97b4-498c-835c-2a43726c1f29",
   "metadata": {},
   "source": [
    "---\n",
    "## Product Name Stemmer & Tokenizer\n",
    "First attempt at nltk library. Goals to stem words and clean up strings of titles as much as possible!"
   ]
  },
  {
   "cell_type": "code",
   "execution_count": 10,
   "id": "13a24a9e-6f3d-4235-ae17-61ce1bec74e4",
   "metadata": {},
   "outputs": [
    {
     "name": "stdout",
     "output_type": "stream",
     "text": [
      "Peavey - GT10 10W Guitar Amplifier => peavey gt10 10w guitar amplifi\n",
      "Roland - 20W Guitar Amplifier => roland 20w guitar amplifi\n",
      "PhoneMate - 5.8GHz Expandable Cordless Phone => phonem expand cordless phone\n",
      "Whirlpool - 17.5 Cu. Ft. Chest Freezer - White => whirlpool cu ft chest freezer white\n"
     ]
    }
   ],
   "source": [
    "import nltk\n",
    "from nltk.stem import SnowballStemmer\n",
    "from nltk.tokenize import word_tokenize\n",
    "\n",
    "names = [\n",
    "    'Peavey - GT10 10W Guitar Amplifier', \n",
    "    'Roland - 20W Guitar Amplifier',\n",
    "    'PhoneMate - 5.8GHz Expandable Cordless Phone',\n",
    "    'Whirlpool - 17.5 Cu. Ft. Chest Freezer - White'\n",
    "]\n",
    "\n",
    "stemmer = SnowballStemmer('english')\n",
    "\n",
    "def transform_name(product_name):\n",
    "    words = nltk.word_tokenize(product_name)\n",
    "    new_words=[word for word in words if word.isalnum()]\n",
    "    stemmed_name=\" \".join([stemmer.stem(word) for word in new_words])\n",
    "    return stemmed_name\n",
    "\n",
    "\n",
    "for name in names:\n",
    "    print(name, '=>', transform_name(name))"
   ]
  },
  {
   "cell_type": "markdown",
   "id": "580e8bff-66a4-4096-b1b1-129b7e8ead9b",
   "metadata": {},
   "source": [
    "---\n",
    "## Exercise 1 \n",
    "### Precision and Recall (Category Depth 4)\n",
    "categoryPath ex. `abcat0712003` = `Board & Puzzle`"
   ]
  },
  {
   "cell_type": "code",
   "execution_count": 16,
   "id": "2df41f4a-3617-4c76-b66a-d57c984d9ce9",
   "metadata": {},
   "outputs": [
    {
     "name": "stdout",
     "output_type": "stream",
     "text": [
      "p@1\n",
      "N\t9549\n",
      "P@1\t0.526\n",
      "R@1\t0.526\n",
      "p@5\n",
      "N\t9549\n",
      "P@5\t0.154\n",
      "R@5\t0.771\n"
     ]
    }
   ],
   "source": [
    "%%bash\n",
    "echo \"p@1\"\n",
    "~/fastText-0.9.2/fasttext test /workspace/datasets/categories/model_categories.bin /workspace/datasets/categories/contentCategories.test\n",
    "echo \"p@5\"\n",
    "~/fastText-0.9.2/fasttext test /workspace/datasets/categories/model_categories.bin /workspace/datasets/categories/contentCategories.test 5"
   ]
  },
  {
   "cell_type": "markdown",
   "id": "41b35b0c-fd56-437e-80e1-75d6fb26fea7",
   "metadata": {},
   "source": [
    "### Precision and Recall (Category Depth 3)\n",
    "categoryPath ex. `abcat0705002` = `PSP`"
   ]
  },
  {
   "cell_type": "code",
   "execution_count": 18,
   "id": "2cde83ad-2968-401f-a5d4-3a08e60cdc2d",
   "metadata": {},
   "outputs": [
    {
     "name": "stdout",
     "output_type": "stream",
     "text": [
      "p@1\n",
      "N\t9920\n",
      "P@1\t0.671\n",
      "R@1\t0.671\n",
      "p@5\n",
      "N\t9920\n",
      "P@5\t0.172\n",
      "R@5\t0.86\n"
     ]
    }
   ],
   "source": [
    "%%bash\n",
    "echo \"p@1\"\n",
    "~/fastText-0.9.2/fasttext test /workspace/datasets/categories/model_categories.bin /workspace/datasets/categories/contentCategories.test\n",
    "echo \"p@5\"\n",
    "~/fastText-0.9.2/fasttext test /workspace/datasets/categories/model_categories.bin /workspace/datasets/categories/contentCategories.test 5"
   ]
  },
  {
   "cell_type": "markdown",
   "id": "e019c6d7-8b8a-480f-808d-6930a953725f",
   "metadata": {},
   "source": [
    "---\n",
    "## Exercise 2\n",
    "Derive Synonyms from Content\n",
    "\n",
    "Below Is my working function for cleaning up product names"
   ]
  },
  {
   "cell_type": "code",
   "execution_count": 20,
   "id": "14438d75-0434-4459-8e12-dc4f0d9a0141",
   "metadata": {},
   "outputs": [
    {
     "name": "stdout",
     "output_type": "stream",
     "text": [
      "peavey guitar amplifier\n",
      "roland guitar amplifier\n",
      "phonemate expandable cordless phone\n",
      "whirlpool cu ft chest freezer white\n",
      "apple iphone pro max sierra blue bose headphones wireless noise cancelling overtheear headphones triple black\n"
     ]
    }
   ],
   "source": [
    "import nltk\n",
    "import string\n",
    "from nltk.stem import SnowballStemmer\n",
    "from nltk.tokenize import word_tokenize\n",
    "nltk.download('words', quiet=True)\n",
    "nltk.download('stopwords', quiet=True)\n",
    "\n",
    "names = [\n",
    "    'Peavey - GT10 10W Guitar Amplifier', \n",
    "    'Roland - 20W Guitar Amplifier',\n",
    "    'PhoneMate - 5.8GHz Expandable Cordless Phone',\n",
    "    'Whirlpool - 17.5 Cu. Ft. Chest Freezer - White',\n",
    "    'Apple - iPhone 13 Pro Max 5G 256GB - Sierra Blue (AT&T)'\n",
    "    'Bose - Headphones 700 Wireless Noise Cancelling Over-the-Ear Headphones - Triple Black'\n",
    "]\n",
    "\n",
    "\n",
    "def transform_name(name):\n",
    "    tokens = word_tokenize(name)\n",
    "    # convert to lower case\n",
    "    tokens = [w.lower() for w in tokens]\n",
    "    # remove punctuation from each word\n",
    "    table = str.maketrans('', '', string.punctuation)\n",
    "    stripped = [w.translate(table) for w in tokens]\n",
    "    # remove remaining tokens that are not alphabetic\n",
    "    words = [word for word in stripped if word.isalpha()]\n",
    "    # filter out stop words\n",
    "    from nltk.corpus import stopwords\n",
    "    stop_words = set(stopwords.words('english'))\n",
    "    words = [w for w in words if not w in stop_words]\n",
    "    return \" \".join(words)\n",
    "\n",
    "\n",
    "for name in names:\n",
    "    print(transform_name(name))"
   ]
  },
  {
   "cell_type": "markdown",
   "id": "0f1d1ff2-6068-4a18-a6ae-be2865686f42",
   "metadata": {},
   "source": [
    "# Synonyms from Title Model\n",
    "I used the basic fasttext model builder, didn't experiment much with tuning. \n",
    "\n",
    "Build the model\n",
    "```\n",
    "~/fastText-0.9.2/fasttext skipgram -input /workspace/datasets/fasttext/titles.txt -output /workspace/datasets/fasttext/title_model\n",
    "```\n",
    "\n",
    "Test the model"
   ]
  },
  {
   "cell_type": "code",
   "execution_count": 76,
   "id": "9c8eed85-76e0-479d-8ddc-cf457fb04fe1",
   "metadata": {},
   "outputs": [
    {
     "name": "stdout",
     "output_type": "stream",
     "text": [
      "         queries  score                                                                                                                                                                       neighbors\n",
      "0          Phone    1.0                                     motorola(0.96), cell(0.95), mobil(0.95), verizon(0.94), earphon(0.94), tmobil(0.94), nocontract(0.94), gophon(0.94), htc(0.94), droid(0.94)\n",
      "1         Camera    1.0                                                    xs(0.99), vr(0.99), rebel(0.99), dslr(0.99), slr(0.99), nikon(0.99), zoom(0.99), finepix(0.99), cybershot(0.99), sigma(0.99)\n",
      "2         Laptop    1.0                                  processor(0.98), gateway(0.97), drive(0.97), ideapad(0.96), aspir(0.96), pavilion(0.96), vaio(0.96), ideacentr(0.96), duo(0.96), display(0.96)\n",
      "3   Refrigerator    1.0                                 thruthedoor(0.99), ice(0.99), freezer(0.99), french(0.99), sidebysid(0.98), order(0.98), cu(0.98), counterdepth(0.98), frostfre(0.98), ft(0.98)\n",
      "4         Guitar    0.6                           natur(0.97), acousticelectr(0.96), fullsiz(0.95), signatur(0.95), bass(0.94), cutaway(0.93), burst(0.93), string(0.93), dreadnought(0.93), star(0.92)\n",
      "5          Dryer    1.0                        steamdryer(0.99), washer(0.99), freezer(0.98), higheffici(0.98), ultralarg(0.98), super(0.98), fryer(0.98), refriger(0.98), spacemak(0.98), drawer(0.98)\n",
      "6             Tv    0.3                                            flatpanel(0.99), tvs(0.97), panel(0.94), flat(0.92), tube(0.92), bdi(0.91), flatb(0.89), flattub(0.88), furnitur(0.88), design(0.87)\n",
      "7      Subwoofer    1.0                              dualvoicecoil(0.99), singlevoicecoil(0.99), jbl(0.97), infin(0.96), abl(0.96), kenwood(0.95), polk(0.95), marin(0.95), coaxial(0.95), fosgat(0.95)\n",
      "8          Beats    0.4                                                  beatl(0.97), cheat(0.96), seat(0.94), great(0.94), heat(0.93), seattl(0.92), creat(0.92), begin(0.90), left(0.90), brain(0.90)\n",
      "9          Mouse    0.1                                       save(0.93), famous(0.92), songbook(0.92), piano(0.92), playbook(0.91), lifebook(0.91), book(0.90), compos(0.90), delay(0.89), ebook(0.89)\n",
      "10       Blender    1.0                                frogger(0.98), grinder(0.98), topper(0.98), whistler(0.98), murder(0.98), juicer(0.98), sharper(0.98), steeler(0.97), warmer(0.97), slicer(0.97)\n",
      "11       Macbook    1.0                                           lifebook(0.99), ebook(0.98), songbook(0.98), nook(0.98), essenti(0.96), leopard(0.96), us(0.96), xps(0.95), umd(0.95), alienwar(0.95)\n",
      "12         Apple    1.0                                                      vhf(0.99), nobl(0.99), subscript(0.99), pdas(0.99), cdrom(0.99), focus(0.98), klh(0.98), acdc(0.98), awg(0.98), impp(0.98)\n",
      "13       Samsung    0.0                             impact(0.92), extractor(0.91), silver(0.90), capacitor(0.89), sharpen(0.89), prepac(0.88), whitesilv(0.88), dispens(0.88), bluewhit(0.88), lg(0.88)\n",
      "14      Nintendo    1.0                                                       wii(0.97), danc(0.97), adventur(0.96), gamecub(0.95), advanc(0.95), nc(0.95), world(0.95), ds(0.95), psp(0.95), man(0.95)\n",
      "15          Sony    0.7                                                    jvc(0.96), everio(0.96), memorex(0.95), camcord(0.94), flip(0.94), g(0.94), ibm(0.93), dvdrrw(0.93), lenovo(0.93), dvr(0.93)\n",
      "16   Playstation    1.0                                            legendari(0.97), vol(0.96), pinbal(0.96), legend(0.96), b(0.96), playalong(0.96), real(0.95), pictur(0.95), aquarian(0.95), iv(0.95)\n",
      "17          Xbox    1.0                                                    world(0.97), legend(0.96), vol(0.96), rise(0.96), danc(0.96), adventur(0.96), evan(0.95), nanci(0.95), box(0.95), guid(0.95)\n",
      "18            Hp    1.0               pavilion(0.98), allinon(0.98), factoryrefurbish(0.97), touchsmart(0.97), eallinon(0.97), packag(0.96), desktop(0.96), compaq(0.96), processor(0.96), comput(0.96)\n",
      "19      Whirpool    1.0                          laundri(0.99), superba(0.99), whirlpool(0.99), frontload(0.99), titanium(0.99), accubak(0.99), front(0.99), cuisinart(0.99), frost(0.99), midsiz(0.98)\n",
      "20    Kitchenaid    1.0  biscuitonbiscuit(0.99), kitchen(0.99), bisqueonbisqu(0.99), bisqu(0.99), stainlesssteel(0.99), biscuit(0.99), whirlpool(0.99), architect(0.99), gas(0.99), stainlesslook(0.99)\n"
     ]
    }
   ],
   "source": [
    "%%bash\n",
    "python testSynonyms.py"
   ]
  },
  {
   "cell_type": "markdown",
   "id": "0bdd9c3f-c6dc-4ad0-b4a5-e8eb25281d85",
   "metadata": {
    "tags": []
   },
   "source": [
    "---\n",
    "## Project Assement\n",
    "### For classifying product names to categories:\n",
    "\n",
    "What precision (P@1) were you able to achieve?\n",
    "- .56\n",
    "\n",
    "What fastText parameters did you use?\n",
    "- epoch=25, wordNGrams=2, learningRate=1.0\n",
    "- I also checked out the autotuner but didn't get it working\n",
    "\n",
    "How did you transform the product names?\n",
    "- Used the snowball stemmer, nltk tokenizer\n",
    "\n",
    "How did you prune infrequent category labels, and how did that affect your precision?\n",
    "- Used a pandas dataframe to count items in a category\n",
    "\n",
    "How did you prune the category tree, and how did that affect your precision?\n",
    "- Using a higher level category increased precision by 16%\n",
    "\n",
    "### For deriving synonyms from content:\n",
    "What 20 tokens did you use for evaluation?\n",
    "- Phone,Camera,Laptop,Refrigerator,Guitar,Dryer,Tv,Subwoofer,Beats,Mouse,Blender,Macbook,Apple,Samsung,Nintendo,Sony,Playstation,Xbox,Hp,Whirpool,Kitchenaid\n",
    "\n",
    "What fastText parameters did you use?\n",
    "- \n",
    "\n",
    "How did you transform the product names?\n",
    "- Lowercase, stemmed, removed punctuation, removed stop words\n",
    "\n",
    "What threshold score did you use?\n",
    "- .93\n",
    "\n",
    "What synonyms did you obtain for those tokens?\n",
    "- See output above\n",
    "\n",
    "\n",
    "### For integrating synonyms with search:\n",
    "How did you transform the product names (if different than previously)?\n",
    "\n",
    "What threshold score did you use?\n",
    "\n",
    "Were you able to find the additional results by matching synonyms?\n"
   ]
  },
  {
   "cell_type": "code",
   "execution_count": null,
   "id": "859a8271-458d-40cc-bdb2-c60c694c7b09",
   "metadata": {},
   "outputs": [],
   "source": []
  }
 ],
 "metadata": {
  "kernelspec": {
   "display_name": "Python 3 (ipykernel)",
   "language": "python",
   "name": "python3"
  },
  "language_info": {
   "codemirror_mode": {
    "name": "ipython",
    "version": 3
   },
   "file_extension": ".py",
   "mimetype": "text/x-python",
   "name": "python",
   "nbconvert_exporter": "python",
   "pygments_lexer": "ipython3",
   "version": "3.9.7"
  }
 },
 "nbformat": 4,
 "nbformat_minor": 5
}
