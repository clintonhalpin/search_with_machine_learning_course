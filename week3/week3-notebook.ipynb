{
 "cells": [
  {
   "cell_type": "markdown",
   "id": "732d28bc-c2de-4a09-955c-058e574df66a",
   "metadata": {},
   "source": [
    "# Week 3 Notes"
   ]
  },
  {
   "cell_type": "code",
   "execution_count": null,
   "id": "4e19e091-3509-4d52-ba2f-ca022f45674b",
   "metadata": {},
   "outputs": [],
   "source": [
    "pip install -r ../requirements_week3.txt"
   ]
  },
  {
   "cell_type": "markdown",
   "id": "c0938bc8-97b4-498c-835c-2a43726c1f29",
   "metadata": {},
   "source": [
    "---\n",
    "## Product Name Stemmer & Tokenizer"
   ]
  },
  {
   "cell_type": "code",
   "execution_count": 10,
   "id": "13a24a9e-6f3d-4235-ae17-61ce1bec74e4",
   "metadata": {},
   "outputs": [
    {
     "name": "stdout",
     "output_type": "stream",
     "text": [
      "Peavey - GT10 10W Guitar Amplifier => peavey gt10 10w guitar amplifi\n",
      "Roland - 20W Guitar Amplifier => roland 20w guitar amplifi\n",
      "PhoneMate - 5.8GHz Expandable Cordless Phone => phonem expand cordless phone\n",
      "Whirlpool - 17.5 Cu. Ft. Chest Freezer - White => whirlpool cu ft chest freezer white\n"
     ]
    }
   ],
   "source": [
    "import nltk\n",
    "from nltk.stem import SnowballStemmer\n",
    "from nltk.tokenize import word_tokenize\n",
    "\n",
    "names = [\n",
    "    'Peavey - GT10 10W Guitar Amplifier', \n",
    "    'Roland - 20W Guitar Amplifier',\n",
    "    'PhoneMate - 5.8GHz Expandable Cordless Phone',\n",
    "    'Whirlpool - 17.5 Cu. Ft. Chest Freezer - White'\n",
    "]\n",
    "\n",
    "stemmer = SnowballStemmer('english')\n",
    "\n",
    "def transform_name(product_name):\n",
    "    words = nltk.word_tokenize(product_name)\n",
    "    new_words=[word for word in words if word.isalnum()]\n",
    "    stemmed_name=\" \".join([stemmer.stem(word) for word in new_words])\n",
    "    return stemmed_name\n",
    "\n",
    "\n",
    "for name in names:\n",
    "    print(name, '=>', transform_name(name))"
   ]
  },
  {
   "cell_type": "markdown",
   "id": "580e8bff-66a4-4096-b1b1-129b7e8ead9b",
   "metadata": {},
   "source": [
    "---\n",
    "## Exercise 1 \n",
    "## Precision and Recall (Category Depth 4)\n",
    "categoryPath ex. `abcat0712003` = `Board & Puzzle`"
   ]
  },
  {
   "cell_type": "code",
   "execution_count": 16,
   "id": "2df41f4a-3617-4c76-b66a-d57c984d9ce9",
   "metadata": {},
   "outputs": [
    {
     "name": "stdout",
     "output_type": "stream",
     "text": [
      "p@1\n",
      "N\t9549\n",
      "P@1\t0.526\n",
      "R@1\t0.526\n",
      "p@5\n",
      "N\t9549\n",
      "P@5\t0.154\n",
      "R@5\t0.771\n"
     ]
    }
   ],
   "source": [
    "%%bash\n",
    "echo \"p@1\"\n",
    "~/fastText-0.9.2/fasttext test /workspace/datasets/categories/model_categories.bin /workspace/datasets/categories/contentCategories.test\n",
    "echo \"p@5\"\n",
    "~/fastText-0.9.2/fasttext test /workspace/datasets/categories/model_categories.bin /workspace/datasets/categories/contentCategories.test 5"
   ]
  },
  {
   "cell_type": "markdown",
   "id": "41b35b0c-fd56-437e-80e1-75d6fb26fea7",
   "metadata": {},
   "source": [
    "## Precision and Recall (Category Depth 3)\n",
    "categoryPath ex. `abcat0705002` = `PSP`"
   ]
  },
  {
   "cell_type": "code",
   "execution_count": 18,
   "id": "2cde83ad-2968-401f-a5d4-3a08e60cdc2d",
   "metadata": {},
   "outputs": [
    {
     "name": "stdout",
     "output_type": "stream",
     "text": [
      "p@1\n",
      "N\t9920\n",
      "P@1\t0.671\n",
      "R@1\t0.671\n",
      "p@5\n",
      "N\t9920\n",
      "P@5\t0.172\n",
      "R@5\t0.86\n"
     ]
    }
   ],
   "source": [
    "%%bash\n",
    "echo \"p@1\"\n",
    "~/fastText-0.9.2/fasttext test /workspace/datasets/categories/model_categories.bin /workspace/datasets/categories/contentCategories.test\n",
    "echo \"p@5\"\n",
    "~/fastText-0.9.2/fasttext test /workspace/datasets/categories/model_categories.bin /workspace/datasets/categories/contentCategories.test 5"
   ]
  },
  {
   "cell_type": "markdown",
   "id": "0bdd9c3f-c6dc-4ad0-b4a5-e8eb25281d85",
   "metadata": {
    "tags": []
   },
   "source": [
    "---\n",
    "## Project Assement\n",
    "### For classifying product names to categories:\n",
    "\n",
    "What precision (P@1) were you able to achieve?\n",
    "- .56\n",
    "\n",
    "What fastText parameters did you use?\n",
    "- epoch=25, wordNGrams=2, learningRate=1.0\n",
    "- I also checked out the autotuner but didn't get it working\n",
    "\n",
    "How did you transform the product names?\n",
    "- Used the snowball stemmer, nltk tokenizer\n",
    "\n",
    "How did you prune infrequent category labels, and how did that affect your precision?\n",
    "- Used a pandas dataframe to count items in a category\n",
    "\n",
    "How did you prune the category tree, and how did that affect your precision?\n",
    "- Using a higher level category increased precision by 16%\n",
    "\n",
    "### For deriving synonyms from content:\n",
    "What 20 tokens did you use for evaluation?\n",
    "\n",
    "What fastText parameters did you use?\n",
    "\n",
    "How did you transform the product names?\n",
    "\n",
    "What threshold score did you use?\n",
    "\n",
    "What synonyms did you obtain for those tokens?\n",
    "\n",
    "\n",
    "### For integrating synonyms with search:\n",
    "How did you transform the product names (if different than previously)?\n",
    "\n",
    "What threshold score did you use?\n",
    "\n",
    "Were you able to find the additional results by matching synonyms?\n"
   ]
  },
  {
   "cell_type": "code",
   "execution_count": null,
   "id": "859a8271-458d-40cc-bdb2-c60c694c7b09",
   "metadata": {},
   "outputs": [],
   "source": []
  }
 ],
 "metadata": {
  "kernelspec": {
   "display_name": "Python 3 (ipykernel)",
   "language": "python",
   "name": "python3"
  },
  "language_info": {
   "codemirror_mode": {
    "name": "ipython",
    "version": 3
   },
   "file_extension": ".py",
   "mimetype": "text/x-python",
   "name": "python",
   "nbconvert_exporter": "python",
   "pygments_lexer": "ipython3",
   "version": "3.9.7"
  }
 },
 "nbformat": 4,
 "nbformat_minor": 5
}
