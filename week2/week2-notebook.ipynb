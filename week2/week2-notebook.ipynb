{
 "cells": [
  {
   "cell_type": "markdown",
   "id": "b4394012-e3c8-4209-9f54-b2cb50ed95b2",
   "metadata": {},
   "source": [
    "# Week 2 Notebook\n",
    "## Baseline Results\n",
    "Just working on the PR tonight. I copied my code from feature/project2... Running baseine to see metrics... MRR should be lower\n",
    "\n",
    "Run LTR-End-To-End ⬇️"
   ]
  },
  {
   "cell_type": "code",
   "execution_count": null,
   "id": "f0d62ae8-17c0-4f29-b12c-d070c9c74468",
   "metadata": {},
   "outputs": [],
   "source": [
    "%cd /workspace/search_with_machine_learning_course\n",
    "!./ltr-end-to-end.sh -y -d"
   ]
  },
  {
   "cell_type": "code",
   "execution_count": 26,
   "id": "b0844192-f483-416f-b1bd-d99edfc4726f",
   "metadata": {},
   "outputs": [
    {
     "name": "stdout",
     "output_type": "stream",
     "text": [
      "/workspace/search_with_machine_learning_course\n",
      "/home/gitpod/.pyenv/versions/search_with_ml_week2/lib/python3.9/site-packages/xgboost/compat.py:36: FutureWarning: pandas.Int64Index is deprecated and will be removed from pandas in a future version. Use pandas.Index with the appropriate dtype instead.\n",
      "  from pandas import MultiIndex, Int64Index\n",
      "Analyzing results from /workspace/ltr_output/xgb_test_output.csv\n",
      "Queries not seen during training: [169]\n",
      "              query\n",
      "0        Ear phones\n",
      "1        apple ipod\n",
      "2         VGA cable\n",
      "3        camera bag\n",
      "4      taylor swift\n",
      "..              ...\n",
      "164       entourage\n",
      "165            Sony\n",
      "166  power inverter\n",
      "167             Pvr\n",
      "168              hp\n",
      "\n",
      "[169 rows x 1 columns]\n",
      "\n",
      "\n",
      "Simple MRR is 0.291\n",
      "LTR Simple MRR is 0.279\n",
      "Hand tuned MRR is 0.390\n",
      "LTR Hand Tuned MRR is 0.376\n",
      "\n",
      "Simple p@10 is 0.111\n",
      "LTR simple p@10 is 0.105\n",
      "Hand tuned p@10 is 0.166\n",
      "LTR hand tuned p@10 is 0.155\n",
      "Simple better: 834\tLTR_Simple Better: 362\tEqual: 759\n",
      "HT better: 1038\tLTR_HT Better: 646\tEqual: 599\n",
      "Saving Better/Equal analysis to /workspace/ltr_output/analysis\n"
     ]
    }
   ],
   "source": [
    "%cd /workspace/search_with_machine_learning_course\n",
    "!python week2/utilities/build_ltr.py --analyze --output_dir /workspace/ltr_output"
   ]
  },
  {
   "cell_type": "code",
   "execution_count": null,
   "id": "07e2777f-7a33-4413-ae73-10a9189b4774",
   "metadata": {},
   "outputs": [],
   "source": [
    "%cd /workspace/search_with_machine_learning_course\n",
    "!./ltr-end-to-end.sh -y -d"
   ]
  }
 ],
 "metadata": {
  "kernelspec": {
   "display_name": "Python 3 (ipykernel)",
   "language": "python",
   "name": "python3"
  },
  "language_info": {
   "codemirror_mode": {
    "name": "ipython",
    "version": 3
   },
   "file_extension": ".py",
   "mimetype": "text/x-python",
   "name": "python",
   "nbconvert_exporter": "python",
   "pygments_lexer": "ipython3",
   "version": "3.9.7"
  }
 },
 "nbformat": 4,
 "nbformat_minor": 5
}
