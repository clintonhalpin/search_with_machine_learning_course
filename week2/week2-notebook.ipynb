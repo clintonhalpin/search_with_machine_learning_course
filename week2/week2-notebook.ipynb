{
 "cells": [
  {
   "cell_type": "markdown",
   "id": "b4394012-e3c8-4209-9f54-b2cb50ed95b2",
   "metadata": {},
   "source": [
    "# Week 2 Notebook\n",
    "## Baseline Results\n",
    "Just working on the PR tonight. I copied my code from feature/project2... Running baseine to see metrics... MRR should be lower\n",
    "\n",
    "Run LTR-End-To-End ⬇️"
   ]
  },
  {
   "cell_type": "code",
   "execution_count": null,
   "id": "f0d62ae8-17c0-4f29-b12c-d070c9c74468",
   "metadata": {
    "tags": []
   },
   "outputs": [],
   "source": [
    "# Run Training\n",
    "%cd /workspace/search_with_machine_learning_course\n",
    "!./ltr-end-to-end.sh -y -d"
   ]
  },
  {
   "cell_type": "code",
   "execution_count": 26,
   "id": "b0844192-f483-416f-b1bd-d99edfc4726f",
   "metadata": {},
   "outputs": [
    {
     "name": "stdout",
     "output_type": "stream",
     "text": [
      "/workspace/search_with_machine_learning_course\n",
      "/home/gitpod/.pyenv/versions/search_with_ml_week2/lib/python3.9/site-packages/xgboost/compat.py:36: FutureWarning: pandas.Int64Index is deprecated and will be removed from pandas in a future version. Use pandas.Index with the appropriate dtype instead.\n",
      "  from pandas import MultiIndex, Int64Index\n",
      "Analyzing results from /workspace/ltr_output/xgb_test_output.csv\n",
      "Queries not seen during training: [169]\n",
      "              query\n",
      "0        Ear phones\n",
      "1        apple ipod\n",
      "2         VGA cable\n",
      "3        camera bag\n",
      "4      taylor swift\n",
      "..              ...\n",
      "164       entourage\n",
      "165            Sony\n",
      "166  power inverter\n",
      "167             Pvr\n",
      "168              hp\n",
      "\n",
      "[169 rows x 1 columns]\n",
      "\n",
      "\n",
      "Simple MRR is 0.291\n",
      "LTR Simple MRR is 0.279\n",
      "Hand tuned MRR is 0.390\n",
      "LTR Hand Tuned MRR is 0.376\n",
      "\n",
      "Simple p@10 is 0.111\n",
      "LTR simple p@10 is 0.105\n",
      "Hand tuned p@10 is 0.166\n",
      "LTR hand tuned p@10 is 0.155\n",
      "Simple better: 834\tLTR_Simple Better: 362\tEqual: 759\n",
      "HT better: 1038\tLTR_HT Better: 646\tEqual: 599\n",
      "Saving Better/Equal analysis to /workspace/ltr_output/analysis\n"
     ]
    }
   ],
   "source": [
    "# Original Output / Once things are hooked up\n",
    "%cd /workspace/search_with_machine_learning_course\n",
    "!python week2/utilities/build_ltr.py --analyze --output_dir /workspace/ltr_output"
   ]
  },
  {
   "cell_type": "markdown",
   "id": "2a7e9ad2-1d44-482e-b8f1-28bf5ee1a394",
   "metadata": {},
   "source": [
    "# Updated ltr_featureset.json\n",
    "Added a bunch of features\n",
    "- sku\n",
    "- clicks\n",
    "- rank\n",
    "- num_impressions\n",
    "- doc_id\n",
    "- product_name\n",
    "- query_id\n",
    "- name_match\n",
    "- manufacturer_match\n",
    "- name_hyphens_match\n",
    "- name_hyphens_and_match\n",
    "- name_phrase_match\n",
    "- shortDescription_match\n",
    "- longDescription_match\n",
    "- salesRankShortTerm\n",
    "- salesRankMediumTerm\n",
    "- salesRankLongTerm\n",
    "- salePrice\n",
    "- regularPrice\n",
    "- click_prior\n",
    "- grade"
   ]
  },
  {
   "cell_type": "code",
   "execution_count": 28,
   "id": "1d74bda0-93d4-453a-aebb-89e33af4b15e",
   "metadata": {},
   "outputs": [
    {
     "name": "stdout",
     "output_type": "stream",
     "text": [
      "/workspace/search_with_machine_learning_course\n",
      "/home/gitpod/.pyenv/versions/search_with_ml_week2/lib/python3.9/site-packages/xgboost/compat.py:36: FutureWarning: pandas.Int64Index is deprecated and will be removed from pandas in a future version. Use pandas.Index with the appropriate dtype instead.\n",
      "  from pandas import MultiIndex, Int64Index\n",
      "Analyzing results from /workspace/ltr_output/xgb_test_output.csv\n",
      "Queries not seen during training: [173]\n",
      "                     query\n",
      "0                     t.i.\n",
      "1            HP power cord\n",
      "2               Htc stylus\n",
      "3                    epson\n",
      "4                panasonic\n",
      "..                     ...\n",
      "168                tablets\n",
      "169                 tomtom\n",
      "170                   tool\n",
      "171       nintendo ds lite\n",
      "172  Nikon digital cameras\n",
      "\n",
      "[173 rows x 1 columns]\n",
      "\n",
      "\n",
      "Simple MRR is 0.281\n",
      "LTR Simple MRR is 0.285\n",
      "Hand tuned MRR is 0.401\n",
      "LTR Hand Tuned MRR is 0.519\n",
      "\n",
      "Simple p@10 is 0.098\n",
      "LTR simple p@10 is 0.100\n",
      "Hand tuned p@10 is 0.163\n",
      "LTR hand tuned p@10 is 0.267\n",
      "Simple better: 103\tLTR_Simple Better: 140\tEqual: 2336\n",
      "HT better: 839\tLTR_HT Better: 768\tEqual: 1204\n",
      "Saving Better/Equal analysis to /workspace/ltr_output/analysis\n"
     ]
    }
   ],
   "source": [
    "# Results with features\n",
    "%cd /workspace/search_with_machine_learning_course\n",
    "!python week2/utilities/build_ltr.py --analyze --output_dir /workspace/ltr_output"
   ]
  },
  {
   "cell_type": "markdown",
   "id": "0e3b707a-b1be-4bfe-989f-90a29d5cf145",
   "metadata": {},
   "source": [
    "# Adding Department\n",
    "- departmentId"
   ]
  },
  {
   "cell_type": "code",
   "execution_count": 2,
   "id": "bc4e4c7b-17a8-4a00-abf1-0d2d9067ece9",
   "metadata": {},
   "outputs": [
    {
     "name": "stdout",
     "output_type": "stream",
     "text": [
      "/workspace/search_with_machine_learning_course\n",
      "/home/gitpod/.pyenv/versions/search_with_ml_week2/lib/python3.9/site-packages/xgboost/compat.py:36: FutureWarning: pandas.Int64Index is deprecated and will be removed from pandas in a future version. Use pandas.Index with the appropriate dtype instead.\n",
      "  from pandas import MultiIndex, Int64Index\n",
      "Analyzing results from /workspace/ltr_output/xgb_test_output.csv\n",
      "Queries not seen during training: [172]\n",
      "            query\n",
      "0            Ipod\n",
      "1       Dsl modem\n",
      "2           iPods\n",
      "3       dane cook\n",
      "4            Xbox\n",
      "..            ...\n",
      "167  Harry potter\n",
      "168        pc3200\n",
      "169       speaker\n",
      "170         beats\n",
      "171          treo\n",
      "\n",
      "[172 rows x 1 columns]\n",
      "\n",
      "\n",
      "Simple MRR is 0.301\n",
      "LTR Simple MRR is 0.302\n",
      "Hand tuned MRR is 0.392\n",
      "LTR Hand Tuned MRR is 0.522\n",
      "\n",
      "Simple p@10 is 0.101\n",
      "LTR simple p@10 is 0.101\n",
      "Hand tuned p@10 is 0.172\n",
      "LTR hand tuned p@10 is 0.263\n",
      "Simple better: 67\tLTR_Simple Better: 144\tEqual: 2416\n",
      "HT better: 837\tLTR_HT Better: 765\tEqual: 1377\n",
      "Saving Better/Equal analysis to /workspace/ltr_output/analysis\n"
     ]
    }
   ],
   "source": [
    "# Final Results\n",
    "%cd /workspace/search_with_machine_learning_course\n",
    "!python week2/utilities/build_ltr.py --analyze --output_dir /workspace/ltr_output"
   ]
  },
  {
   "cell_type": "code",
   "execution_count": null,
   "id": "4e93c95c-f5fb-4c29-b522-02c2a4b1f721",
   "metadata": {},
   "outputs": [],
   "source": []
  }
 ],
 "metadata": {
  "kernelspec": {
   "display_name": "Python 3 (ipykernel)",
   "language": "python",
   "name": "python3"
  },
  "language_info": {
   "codemirror_mode": {
    "name": "ipython",
    "version": 3
   },
   "file_extension": ".py",
   "mimetype": "text/x-python",
   "name": "python",
   "nbconvert_exporter": "python",
   "pygments_lexer": "ipython3",
   "version": "3.9.7"
  }
 },
 "nbformat": 4,
 "nbformat_minor": 5
}
