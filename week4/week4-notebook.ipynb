{
 "cells": [
  {
   "cell_type": "markdown",
   "id": "606cb5cb-2caa-4c0b-8f45-b5959e855a14",
   "metadata": {},
   "source": [
    "# Week 4 Notebook\n",
    "Query Understanding notebook"
   ]
  },
  {
   "cell_type": "markdown",
   "id": "0e78c485-315a-4b26-baa2-47c07e06b6a5",
   "metadata": {},
   "source": [
    "## Task 1: Prune the category taxonomy.\n",
    "Work on cleaning queries / stemming etc"
   ]
  },
  {
   "cell_type": "code",
   "execution_count": 3,
   "id": "71be5d41-6575-4eb0-879e-f54f027b15eb",
   "metadata": {},
   "outputs": [
    {
     "data": {
      "text/html": [
       "<div>\n",
       "<style scoped>\n",
       "    .dataframe tbody tr th:only-of-type {\n",
       "        vertical-align: middle;\n",
       "    }\n",
       "\n",
       "    .dataframe tbody tr th {\n",
       "        vertical-align: top;\n",
       "    }\n",
       "\n",
       "    .dataframe thead th {\n",
       "        text-align: right;\n",
       "    }\n",
       "</style>\n",
       "<table border=\"1\" class=\"dataframe\">\n",
       "  <thead>\n",
       "    <tr style=\"text-align: right;\">\n",
       "      <th></th>\n",
       "      <th>category</th>\n",
       "      <th>query</th>\n",
       "    </tr>\n",
       "  </thead>\n",
       "  <tbody>\n",
       "    <tr>\n",
       "      <th>0</th>\n",
       "      <td>abcat0101001</td>\n",
       "      <td>Televisiones Panasonic  50 pulgadas</td>\n",
       "    </tr>\n",
       "    <tr>\n",
       "      <th>1</th>\n",
       "      <td>abcat0101001</td>\n",
       "      <td>Sharp</td>\n",
       "    </tr>\n",
       "    <tr>\n",
       "      <th>2</th>\n",
       "      <td>pcmcat193100050014</td>\n",
       "      <td>nook</td>\n",
       "    </tr>\n",
       "    <tr>\n",
       "      <th>3</th>\n",
       "      <td>abcat0101001</td>\n",
       "      <td>rca</td>\n",
       "    </tr>\n",
       "    <tr>\n",
       "      <th>4</th>\n",
       "      <td>abcat0101005</td>\n",
       "      <td>rca</td>\n",
       "    </tr>\n",
       "  </tbody>\n",
       "</table>\n",
       "</div>"
      ],
      "text/plain": [
       "             category                                query\n",
       "0        abcat0101001  Televisiones Panasonic  50 pulgadas\n",
       "1        abcat0101001                                Sharp\n",
       "2  pcmcat193100050014                                 nook\n",
       "3        abcat0101001                                  rca\n",
       "4        abcat0101005                                  rca"
      ]
     },
     "execution_count": 3,
     "metadata": {},
     "output_type": "execute_result"
    }
   ],
   "source": [
    "import pandas as pd\n",
    "df = pd.read_csv('/workspace/datasets/train.csv')[['category', 'query']]\n",
    "df.head(n=5)"
   ]
  },
  {
   "cell_type": "markdown",
   "id": "52f556cd-ec5d-4c0f-b197-010fbc2195a9",
   "metadata": {},
   "source": [
    "### Stem, Clean queries\n",
    "Originally I had a much more robust `clean_query` function but it seemed to take forever across the 3M records. I trimed this down significantly"
   ]
  },
  {
   "cell_type": "code",
   "execution_count": 99,
   "id": "9b36bb98-ace4-4c1d-a83e-3ba2b63bee0a",
   "metadata": {},
   "outputs": [
    {
     "data": {
      "text/html": [
       "<div>\n",
       "<style scoped>\n",
       "    .dataframe tbody tr th:only-of-type {\n",
       "        vertical-align: middle;\n",
       "    }\n",
       "\n",
       "    .dataframe tbody tr th {\n",
       "        vertical-align: top;\n",
       "    }\n",
       "\n",
       "    .dataframe thead th {\n",
       "        text-align: right;\n",
       "    }\n",
       "</style>\n",
       "<table border=\"1\" class=\"dataframe\">\n",
       "  <thead>\n",
       "    <tr style=\"text-align: right;\">\n",
       "      <th></th>\n",
       "      <th>category</th>\n",
       "      <th>query</th>\n",
       "      <th>stemmed</th>\n",
       "    </tr>\n",
       "  </thead>\n",
       "  <tbody>\n",
       "    <tr>\n",
       "      <th>0</th>\n",
       "      <td>abcat0101001</td>\n",
       "      <td>Televisiones Panasonic  50 pulgadas</td>\n",
       "      <td>television panason 50 pulgada</td>\n",
       "    </tr>\n",
       "    <tr>\n",
       "      <th>1</th>\n",
       "      <td>abcat0101001</td>\n",
       "      <td>Sharp</td>\n",
       "      <td>sharp</td>\n",
       "    </tr>\n",
       "    <tr>\n",
       "      <th>2</th>\n",
       "      <td>pcmcat193100050014</td>\n",
       "      <td>nook</td>\n",
       "      <td>nook</td>\n",
       "    </tr>\n",
       "    <tr>\n",
       "      <th>3</th>\n",
       "      <td>abcat0101001</td>\n",
       "      <td>rca</td>\n",
       "      <td>rca</td>\n",
       "    </tr>\n",
       "    <tr>\n",
       "      <th>4</th>\n",
       "      <td>abcat0101005</td>\n",
       "      <td>rca</td>\n",
       "      <td>rca</td>\n",
       "    </tr>\n",
       "    <tr>\n",
       "      <th>5</th>\n",
       "      <td>pcmcat143200050016</td>\n",
       "      <td>Flat screen tvs</td>\n",
       "      <td>flat screen tv</td>\n",
       "    </tr>\n",
       "    <tr>\n",
       "      <th>6</th>\n",
       "      <td>pcmcat247400050001</td>\n",
       "      <td>macbook</td>\n",
       "      <td>macbook</td>\n",
       "    </tr>\n",
       "    <tr>\n",
       "      <th>7</th>\n",
       "      <td>pcmcat171900050028</td>\n",
       "      <td>Blue tooth headphones</td>\n",
       "      <td>blue tooth headphon</td>\n",
       "    </tr>\n",
       "    <tr>\n",
       "      <th>8</th>\n",
       "      <td>abcat0107004</td>\n",
       "      <td>Tv antenna</td>\n",
       "      <td>tv antenna</td>\n",
       "    </tr>\n",
       "    <tr>\n",
       "      <th>9</th>\n",
       "      <td>pcmcat186100050006</td>\n",
       "      <td>memory card</td>\n",
       "      <td>memori card</td>\n",
       "    </tr>\n",
       "  </tbody>\n",
       "</table>\n",
       "</div>"
      ],
      "text/plain": [
       "             category                                query  \\\n",
       "0        abcat0101001  Televisiones Panasonic  50 pulgadas   \n",
       "1        abcat0101001                                Sharp   \n",
       "2  pcmcat193100050014                                 nook   \n",
       "3        abcat0101001                                  rca   \n",
       "4        abcat0101005                                  rca   \n",
       "5  pcmcat143200050016                      Flat screen tvs   \n",
       "6  pcmcat247400050001                              macbook   \n",
       "7  pcmcat171900050028                Blue tooth headphones   \n",
       "8        abcat0107004                           Tv antenna   \n",
       "9  pcmcat186100050006                          memory card   \n",
       "\n",
       "                         stemmed  \n",
       "0  television panason 50 pulgada  \n",
       "1                          sharp  \n",
       "2                           nook  \n",
       "3                            rca  \n",
       "4                            rca  \n",
       "5                 flat screen tv  \n",
       "6                        macbook  \n",
       "7            blue tooth headphon  \n",
       "8                     tv antenna  \n",
       "9                    memori card  "
      ]
     },
     "execution_count": 99,
     "metadata": {},
     "output_type": "execute_result"
    }
   ],
   "source": [
    "import utilities.functions as fn\n",
    "\n",
    "test_df = df[0:10];\n",
    "test_df.assign(stemmed = test_df['query'].apply(fn.clean_query))"
   ]
  },
  {
   "cell_type": "markdown",
   "id": "574f4ae8-532e-49ce-b240-adb0bb74d4b0",
   "metadata": {},
   "source": [
    "### Create Tranining and Test Data\n",
    "Through stemming and cleaning of categories we get a much cleaner dataset"
   ]
  },
  {
   "cell_type": "code",
   "execution_count": 25,
   "id": "49c55b25-8721-4768-8326-a9f578d1da2b",
   "metadata": {},
   "outputs": [
    {
     "name": "stdout",
     "output_type": "stream",
     "text": [
      "> cleaning_queries\n",
      "> checking for min_queries\n",
      "> original unique categories=1451\n",
      "> final categories=776\n",
      "__label__abcat0102003 blu ray player\n",
      "__label__abcat0201011 ipod\n",
      "__label__cat02015 tae guk gi\n",
      "__label__pcmcat180400050000 canon camera\n",
      "__label__pcmcat209000050008 hp touchpad\n",
      "__label__cat02002 the sim\n",
      "__label__pcmcat209000050007 dryer\n",
      "__label__abcat0101001 lcd tv\n",
      "__label__abcat0403000 gopro\n",
      "__label__pcmcat183800050007 usb car adapt\n",
      "994279 /workspace/datasets/labeled_query_data.txt\n"
     ]
    }
   ],
   "source": [
    "%%bash\n",
    "python ../week4/create_labeled_queries.py --min_queries=200\n",
    "head -n 10 /workspace/datasets/labeled_query_data.txt\n",
    "wc -l /workspace/datasets/labeled_query_data.txt"
   ]
  },
  {
   "cell_type": "markdown",
   "id": "f9a78283-638c-4ba2-b74c-8eaba190d3ff",
   "metadata": {},
   "source": [
    "## Task 2: Train a query classifier.\n",
    "Use the labeled data to build a fast test model"
   ]
  },
  {
   "cell_type": "code",
   "execution_count": 27,
   "id": "1135daae-a196-49e3-91ed-98d280ff5df1",
   "metadata": {},
   "outputs": [
    {
     "name": "stdout",
     "output_type": "stream",
     "text": [
      "Training data\n",
      "__label__abcat0102003 blu ray player\n",
      "__label__abcat0201011 ipod\n",
      "__label__cat02015 tae guk gi\n",
      "__label__pcmcat180400050000 canon camera\n",
      "__label__pcmcat209000050008 hp touchpad\n",
      "__label__cat02002 the sim\n",
      "__label__pcmcat209000050007 dryer\n",
      "__label__abcat0101001 lcd tv\n",
      "__label__abcat0403000 gopro\n",
      "__label__pcmcat183800050007 usb car adapt\n",
      "Test data\n",
      "__label__pcmcat174700050005 star war\n",
      "__label__cat09000 tmnt\n",
      "__label__cat02719 t pain\n",
      "__label__abcat0515028 laptop case\n",
      "__label__cat02015 land befor time\n",
      "__label__cat02015 barbi\n",
      "__label__abcat0807001 epson photo\n",
      "__label__pcmcat180400050000 digit camera\n",
      "__label__pcmcat158900050018 lcd projector\n",
      "__label__pcmcat246100050002 bluetooth\n"
     ]
    },
    {
     "name": "stderr",
     "output_type": "stream",
     "text": [
      "Read 0M words\n",
      "Number of words:  683\n",
      "Number of labels: 672\n",
      "Progress: 100.0% words/sec/thread:   28668 lr:  0.000000 avg.loss:  1.611424 ETA:   0h 0m 0s\n"
     ]
    },
    {
     "name": "stdout",
     "output_type": "stream",
     "text": [
      "p@1 test\n",
      "N\t9941\n",
      "P@1\t0.435\n",
      "R@1\t0.435\n",
      "p@5 test\n",
      "N\t9941\n",
      "P@5\t0.125\n",
      "R@5\t0.623\n"
     ]
    }
   ],
   "source": [
    "%%bash\n",
    "./create_qu_model.sh"
   ]
  },
  {
   "cell_type": "markdown",
   "id": "283b2f07-4b96-408d-a533-d098e33b3b4a",
   "metadata": {},
   "source": [
    "## Updating labels\n",
    "Wanting higher P&R updating my training data to require queries to have more min_queries"
   ]
  },
  {
   "cell_type": "code",
   "execution_count": 28,
   "id": "192ade09-f0cc-4c21-9da1-b02b0dd16972",
   "metadata": {},
   "outputs": [
    {
     "name": "stdout",
     "output_type": "stream",
     "text": [
      "> cleaning_queries\n",
      "> checking for min_queries\n",
      "> original unique categories=1453\n",
      "> final categories=502\n",
      "__label__abcat0811004 g2 batteri\n",
      "__label__pcmcat162100050040 virgin mobil\n",
      "__label__abcat0208007 lcd\n",
      "__label__pcmcat186100050006 extern hard drive\n",
      "__label__pcmcat174700050005 age of empir\n",
      "__label__abcat0511004 wireless printer\n",
      "__label__pcmcat209000050007 ipad\n",
      "__label__cat02716 ugk\n",
      "__label__pcmcat156300050010 fridg\n",
      "__label__pcmcat247400050001 macbook\n",
      "994302 /workspace/datasets/labeled_query_data.txt\n"
     ]
    }
   ],
   "source": [
    "%%bash\n",
    "python ../week4/create_labeled_queries.py --min_queries=1000\n",
    "head -n 10 /workspace/datasets/labeled_query_data.txt\n",
    "wc -l /workspace/datasets/labeled_query_data.txt"
   ]
  },
  {
   "cell_type": "code",
   "execution_count": 39,
   "id": "200cc7db-2efc-48fb-88cc-b82aa15b86da",
   "metadata": {},
   "outputs": [
    {
     "name": "stdout",
     "output_type": "stream",
     "text": [
      "Training data\n",
      "__label__abcat0101001 lcd tv\n",
      "__label__pcmcat158900050018 projector\n",
      "__label__abcat0403004 flip video camera\n",
      "__label__cat02015 darker than black\n",
      "__label__cat02015 appl\n",
      "__label__cat02015 fast and furiou\n",
      "__label__abcat0515028 carri case for laptop\n",
      "__label__abcat0101001 42 panason plasma\n",
      "__label__pcmcat232900050017 metal gear\n",
      "__label__abcat0201011 samsung galaxi mp3\n",
      "Test data\n",
      "__label__cat02015 make the grade\n",
      "__label__abcat0504010 usb memori\n",
      "__label__abcat0703002 star war 3\n",
      "__label__abcat0208011 bose portabl\n",
      "__label__pcmcat218000050003 ipod case\n",
      "__label__pcmcat247400050000 2398896 2402035 5386263 5386272 6804112 8579932 8589878 9374278 9650424\n",
      "__label__pcmcat186400050002 camera\n",
      "__label__pcmcat231700050017 googl tv\n",
      "__label__abcat0101001 lcd tv\n",
      "__label__pcmcat253700050020 kiss\n"
     ]
    },
    {
     "name": "stderr",
     "output_type": "stream",
     "text": [
      "Read 0M words\n",
      "Number of words:  712\n",
      "Number of labels: 426\n",
      "Progress: 100.0% words/sec/thread:    9359 lr:  0.000000 avg.loss:  1.474405 ETA:   0h 0m 0s\n"
     ]
    },
    {
     "name": "stdout",
     "output_type": "stream",
     "text": [
      "p@1 test\n",
      "N\t9952\n",
      "P@1\t0.446\n",
      "R@1\t0.446\n",
      "p@5 test\n",
      "N\t9952\n",
      "P@5\t0.128\n",
      "R@5\t0.64\n"
     ]
    }
   ],
   "source": [
    "%%bash\n",
    "./create_qu_model.sh"
   ]
  },
  {
   "cell_type": "markdown",
   "id": "51256617-a99c-4f49-80b4-b62f50aa6562",
   "metadata": {},
   "source": [
    "### Working Category Roll up Function\n",
    "Still getting used to pandas. So scratching some notes here to test"
   ]
  },
  {
   "cell_type": "code",
   "execution_count": 25,
   "id": "7dc92831-dcfb-4702-927e-712a81a5c242",
   "metadata": {},
   "outputs": [
    {
     "data": {
      "text/html": [
       "<div>\n",
       "<style scoped>\n",
       "    .dataframe tbody tr th:only-of-type {\n",
       "        vertical-align: middle;\n",
       "    }\n",
       "\n",
       "    .dataframe tbody tr th {\n",
       "        vertical-align: top;\n",
       "    }\n",
       "\n",
       "    .dataframe thead th {\n",
       "        text-align: right;\n",
       "    }\n",
       "</style>\n",
       "<table border=\"1\" class=\"dataframe\">\n",
       "  <thead>\n",
       "    <tr style=\"text-align: right;\">\n",
       "      <th></th>\n",
       "      <th>category</th>\n",
       "      <th>parent</th>\n",
       "    </tr>\n",
       "  </thead>\n",
       "  <tbody>\n",
       "    <tr>\n",
       "      <th>0</th>\n",
       "      <td>abcat0010000</td>\n",
       "      <td>cat00000</td>\n",
       "    </tr>\n",
       "    <tr>\n",
       "      <th>1</th>\n",
       "      <td>abcat0011000</td>\n",
       "      <td>abcat0010000</td>\n",
       "    </tr>\n",
       "    <tr>\n",
       "      <th>2</th>\n",
       "      <td>abcat0011001</td>\n",
       "      <td>abcat0011000</td>\n",
       "    </tr>\n",
       "    <tr>\n",
       "      <th>3</th>\n",
       "      <td>abcat0011002</td>\n",
       "      <td>abcat0011000</td>\n",
       "    </tr>\n",
       "    <tr>\n",
       "      <th>4</th>\n",
       "      <td>abcat0011003</td>\n",
       "      <td>abcat0011000</td>\n",
       "    </tr>\n",
       "    <tr>\n",
       "      <th>...</th>\n",
       "      <td>...</td>\n",
       "      <td>...</td>\n",
       "    </tr>\n",
       "    <tr>\n",
       "      <th>4634</th>\n",
       "      <td>pcmcat97200050013</td>\n",
       "      <td>cat15205</td>\n",
       "    </tr>\n",
       "    <tr>\n",
       "      <th>4635</th>\n",
       "      <td>pcmcat97200050015</td>\n",
       "      <td>cat15063</td>\n",
       "    </tr>\n",
       "    <tr>\n",
       "      <th>4636</th>\n",
       "      <td>pcmcat99000050001</td>\n",
       "      <td>pcmcat50000050006</td>\n",
       "    </tr>\n",
       "    <tr>\n",
       "      <th>4637</th>\n",
       "      <td>pcmcat99000050002</td>\n",
       "      <td>pcmcat99000050001</td>\n",
       "    </tr>\n",
       "    <tr>\n",
       "      <th>4638</th>\n",
       "      <td>pcmcat99300050000</td>\n",
       "      <td>cat15063</td>\n",
       "    </tr>\n",
       "  </tbody>\n",
       "</table>\n",
       "<p>4639 rows × 2 columns</p>\n",
       "</div>"
      ],
      "text/plain": [
       "               category             parent\n",
       "0          abcat0010000           cat00000\n",
       "1          abcat0011000       abcat0010000\n",
       "2          abcat0011001       abcat0011000\n",
       "3          abcat0011002       abcat0011000\n",
       "4          abcat0011003       abcat0011000\n",
       "...                 ...                ...\n",
       "4634  pcmcat97200050013           cat15205\n",
       "4635  pcmcat97200050015           cat15063\n",
       "4636  pcmcat99000050001  pcmcat50000050006\n",
       "4637  pcmcat99000050002  pcmcat99000050001\n",
       "4638  pcmcat99300050000           cat15063\n",
       "\n",
       "[4639 rows x 2 columns]"
      ]
     },
     "execution_count": 25,
     "metadata": {},
     "output_type": "execute_result"
    }
   ],
   "source": [
    "import xml.etree.ElementTree as ET\n",
    "import pandas as pd\n",
    "root_category_id = 'cat00000'\n",
    "\n",
    "tree = ET.parse('/workspace/datasets/product_data/categories/categories_0001_abcat0010000_to_pcmcat99300050000.xml')\n",
    "root = tree.getroot()\n",
    "\n",
    "categories = []\n",
    "parents = []\n",
    "for child in root:\n",
    "    id = child.find('id').text\n",
    "    cat_path = child.find('path')\n",
    "    cat_path_ids = [cat.find('id').text for cat in cat_path]\n",
    "    leaf_id = cat_path_ids[-1]\n",
    "    if leaf_id != root_category_id:\n",
    "        categories.append(leaf_id)\n",
    "        parents.append(cat_path_ids[-2])\n",
    "parents_df = pd.DataFrame(list(zip(categories, parents)), columns =['category', 'parent'])\n",
    "\n",
    "parents_df"
   ]
  },
  {
   "cell_type": "markdown",
   "id": "01f8b41d-68d9-4ca2-b185-0248cdcb402b",
   "metadata": {},
   "source": [
    "### Performant way to rollup categories\n",
    "This took me several iterations to figure out. \n",
    "1. Create some helper functions lookup size, parent\n",
    "2. Identify canidates\n",
    "3. Roll up categories\n",
    "4. Profit"
   ]
  },
  {
   "cell_type": "code",
   "execution_count": 62,
   "id": "77c14a32-0942-441c-8ee1-fb0f66955609",
   "metadata": {},
   "outputs": [],
   "source": [
    "min_queries = 2"
   ]
  },
  {
   "cell_type": "code",
   "execution_count": 63,
   "id": "c6bf5bd1-7d6c-4322-a257-ca7515908391",
   "metadata": {},
   "outputs": [],
   "source": [
    "counts = df['category'].value_counts();\n",
    "def get_category_size(x):\n",
    "    return counts.get(x, 0)\n",
    "\n",
    "def get_parent_category(frame, x):\n",
    "    filt = frame['category'] == x\n",
    "    parent = frame.loc[filt, 'parent'];\n",
    "    if not parent.empty:\n",
    "        return parent.item()\n",
    "    return None\n",
    "\n",
    "\n",
    "cached_sizes = {}\n",
    "def first_min_queries_match(x):\n",
    "    size = 0;\n",
    "    if x in cached_sizes:\n",
    "        size = cached_sizes[x]\n",
    "    else:\n",
    "        size = get_category_size(x)\n",
    "        \n",
    "    if size >= min_queries:\n",
    "        return x\n",
    "    else:\n",
    "        parent = get_parent_category(parents_df, x);\n",
    "        print(\"< min_queries={0}, size={1}, parent={2}\".format(x, size, parent))\n",
    "        if parent is not None:\n",
    "            return first_min_queries_match(parent)\n",
    "        return x;"
   ]
  },
  {
   "cell_type": "code",
   "execution_count": 64,
   "id": "a0ca8cfd-c91c-4229-b1c7-6517c8609fb5",
   "metadata": {},
   "outputs": [
    {
     "name": "stdout",
     "output_type": "stream",
     "text": [
      "> checking for min_queries\n",
      "number of queries to rollup=6\n",
      "< min_queries=pcmcat96200050052, size=1, parent=None\n",
      "< min_queries=pcmcat153700050010, size=1, parent=None\n",
      "< min_queries=abcat0410019, size=1, parent=None\n",
      "< min_queries=abcat0307010, size=1, parent=None\n",
      "< min_queries=cat02040, size=1, parent=None\n",
      "< min_queries=pcmcat197600050001, size=1, parent=None\n",
      "> original unique categories=1190\n",
      "> trimmed categories=1190\n"
     ]
    }
   ],
   "source": [
    "print('> checking for min_queries');\n",
    "original_categories_len = df['category'].value_counts().size\n",
    "# \n",
    "# Store list of categories which have less than min categories\n",
    "#\n",
    "less_than_min = df[df['category'].isin(df['category'].value_counts()[df['category'].value_counts() < min_queries].index)].category.unique()\n",
    "print(\"number of queries to rollup={0}\".format(len(less_than_min)))\n",
    "#\n",
    "# Only apply \"expensive\" roll up if in list\n",
    "#\n",
    "df['category'] = df['category'].apply(lambda x: first_min_queries_match(x) if x in less_than_min else x)\n",
    "\n",
    "print(\"> original unique categories={0}\".format(original_categories_len))\n",
    "print(\"> trimmed categories={0}\".format(df['category'].value_counts().size))"
   ]
  },
  {
   "cell_type": "markdown",
   "id": "70c43096-844e-438b-bbca-d9bf847b2021",
   "metadata": {},
   "source": [
    "## Project Assessment\n",
    "\n",
    "### For query classification:\n",
    "\n",
    "How many unique categories did you see in your rolled up training data when you set the minimum number of queries per category to 100? To 1000?\n",
    "- I used 200 for min queries, catgories went from `1443` to `552`\n",
    "\n",
    "What values did you achieve for P@1, R@3, and R@5? You should have tried at least a few different models, varying the minimum number of queries per category as well as trying different fastText parameters or query normalization. Report at least 3 of your runs.\n",
    "Best run\n",
    "\n",
    "```\n",
    "#params\n",
    "~/fastText-0.9.2/fasttext supervised -input $TRAINING -output model_qu -lr .5 -epoch 25 -wordNgrams 2 -minCountLabel 10 -loss hs\n",
    "\n",
    "#results\n",
    "p@1 test\n",
    "N       8369\n",
    "P@1     0.527\n",
    "R@1     0.527\n",
    "p@5 test\n",
    "N       8369\n",
    "P@5     0.147\n",
    "R@5     0.736\n",
    "```\n",
    "\n",
    "### For integrating query classification with search:\n",
    "\n",
    "Give 2 or 3 examples of queries where you saw a dramatic positive change in the results because of filtering. Make sure to include the classifier output for those queries.\n",
    "* laptop = `pcmcat247400050000`\n",
    "* beats = `pcmcat144700050004`\n",
    "\n",
    "\n",
    "Given 2 or 3 examples of queries where filtering hurt the results, either because the classifier was wrong or for some other reason. Again, include the classifier output for those queries.\n",
    "* fridge = `cat02015`\n"
   ]
  },
  {
   "cell_type": "code",
   "execution_count": null,
   "id": "f5a1cc89-5639-4bd9-a224-2e36545ae2d6",
   "metadata": {},
   "outputs": [],
   "source": []
  }
 ],
 "metadata": {
  "kernelspec": {
   "display_name": "Python 3 (ipykernel)",
   "language": "python",
   "name": "python3"
  },
  "language_info": {
   "codemirror_mode": {
    "name": "ipython",
    "version": 3
   },
   "file_extension": ".py",
   "mimetype": "text/x-python",
   "name": "python",
   "nbconvert_exporter": "python",
   "pygments_lexer": "ipython3",
   "version": "3.8.12"
  }
 },
 "nbformat": 4,
 "nbformat_minor": 5
}
