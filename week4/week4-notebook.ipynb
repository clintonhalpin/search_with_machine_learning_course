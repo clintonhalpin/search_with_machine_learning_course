{
 "cells": [
  {
   "cell_type": "markdown",
   "id": "606cb5cb-2caa-4c0b-8f45-b5959e855a14",
   "metadata": {},
   "source": [
    "# Week 4 Notebook\n",
    "\n",
    "\n",
    "```\n",
    "Level 1: Query Classification\n",
    "\n",
    "Your first task is to generate training data that fastText can learn from. You’ve already worked with examples of parsing the category tree as XML, pruning the category tree to a maximum depth, and mapping the leaf category ids of queries to ancestor categories. Feel free to review these in the above reading materia!\n",
    "```"
   ]
  },
  {
   "cell_type": "code",
   "execution_count": null,
   "id": "5505c4bf-c067-4951-9b5a-b16ec046ff84",
   "metadata": {},
   "outputs": [],
   "source": [
    "%%bash\n",
    "pip install -r ../requirements_week4.txt"
   ]
  },
  {
   "cell_type": "code",
   "execution_count": 4,
   "id": "320d5459-9b20-4aaf-a423-5c0cec9d3d27",
   "metadata": {},
   "outputs": [],
   "source": [
    "%%bash\n",
    "python ../week4/create_labeled_queries.py"
   ]
  },
  {
   "cell_type": "code",
   "execution_count": 8,
   "id": "4a4fbe5a-e1d2-4f1f-9a17-ca7a2a16a84d",
   "metadata": {},
   "outputs": [
    {
     "name": "stdout",
     "output_type": "stream",
     "text": [
      "__label__abcat0101001 Televisiones Panasonic  50 pulgadas\n",
      "__label__abcat0101001 Sharp\n",
      "__label__pcmcat193100050014 nook\n",
      "__label__abcat0101001 rca\n",
      "__label__abcat0101005 rca\n",
      "__label__pcmcat143200050016 Flat screen tvs\n",
      "__label__pcmcat247400050001 macbook\n",
      "__label__pcmcat171900050028 Blue tooth headphones\n",
      "__label__abcat0107004 Tv antenna\n",
      "__label__pcmcat186100050006 memory card\n"
     ]
    }
   ],
   "source": [
    "%%bash\n",
    "head -n 10 /workspace/datasets/labeled_query_data.txt"
   ]
  },
  {
   "cell_type": "markdown",
   "id": "0e78c485-315a-4b26-baa2-47c07e06b6a5",
   "metadata": {},
   "source": [
    "## Step 1\n",
    "- Work on cleaning queries / stemming etc"
   ]
  },
  {
   "cell_type": "code",
   "execution_count": 15,
   "id": "71be5d41-6575-4eb0-879e-f54f027b15eb",
   "metadata": {},
   "outputs": [
    {
     "data": {
      "text/html": [
       "<div>\n",
       "<style scoped>\n",
       "    .dataframe tbody tr th:only-of-type {\n",
       "        vertical-align: middle;\n",
       "    }\n",
       "\n",
       "    .dataframe tbody tr th {\n",
       "        vertical-align: top;\n",
       "    }\n",
       "\n",
       "    .dataframe thead th {\n",
       "        text-align: right;\n",
       "    }\n",
       "</style>\n",
       "<table border=\"1\" class=\"dataframe\">\n",
       "  <thead>\n",
       "    <tr style=\"text-align: right;\">\n",
       "      <th></th>\n",
       "      <th>category</th>\n",
       "      <th>query</th>\n",
       "    </tr>\n",
       "  </thead>\n",
       "  <tbody>\n",
       "    <tr>\n",
       "      <th>0</th>\n",
       "      <td>abcat0101001</td>\n",
       "      <td>Televisiones Panasonic  50 pulgadas</td>\n",
       "    </tr>\n",
       "    <tr>\n",
       "      <th>1</th>\n",
       "      <td>abcat0101001</td>\n",
       "      <td>Sharp</td>\n",
       "    </tr>\n",
       "    <tr>\n",
       "      <th>2</th>\n",
       "      <td>pcmcat193100050014</td>\n",
       "      <td>nook</td>\n",
       "    </tr>\n",
       "    <tr>\n",
       "      <th>3</th>\n",
       "      <td>abcat0101001</td>\n",
       "      <td>rca</td>\n",
       "    </tr>\n",
       "    <tr>\n",
       "      <th>4</th>\n",
       "      <td>abcat0101005</td>\n",
       "      <td>rca</td>\n",
       "    </tr>\n",
       "  </tbody>\n",
       "</table>\n",
       "</div>"
      ],
      "text/plain": [
       "             category                                query\n",
       "0        abcat0101001  Televisiones Panasonic  50 pulgadas\n",
       "1        abcat0101001                                Sharp\n",
       "2  pcmcat193100050014                                 nook\n",
       "3        abcat0101001                                  rca\n",
       "4        abcat0101005                                  rca"
      ]
     },
     "execution_count": 15,
     "metadata": {},
     "output_type": "execute_result"
    }
   ],
   "source": [
    "import pandas as pd\n",
    "df = pd.read_csv('/workspace/datasets/train.csv')[['category', 'query']]\n",
    "df.head()"
   ]
  },
  {
   "cell_type": "code",
   "execution_count": 58,
   "id": "9b36bb98-ace4-4c1d-a83e-3ba2b63bee0a",
   "metadata": {},
   "outputs": [
    {
     "name": "stdout",
     "output_type": "stream",
     "text": [
      "query=\"Televisiones Panasonic  50 pulgadas\" clean=\"television panason pulgada\"\n",
      "query=\"Sharp\" clean=\"sharp\"\n",
      "query=\"nook\" clean=\"nook\"\n",
      "query=\"rca\" clean=\"rca\"\n",
      "query=\"rca\" clean=\"rca\"\n",
      "query=\"Flat screen tvs\" clean=\"flat screen tv\"\n",
      "query=\"macbook\" clean=\"macbook\"\n",
      "query=\"Blue tooth headphones\" clean=\"blue tooth headphon\"\n",
      "query=\"Tv antenna\" clean=\"tv antenna\"\n",
      "query=\"memory card\" clean=\"memori card\"\n",
      "query=\"AC power cord\" clean=\"ac power cord\"\n",
      "query=\"Zagg iPhone\" clean=\"zagg iphon\"\n",
      "query=\"Watch The Throne\" clean=\"watch throne\"\n",
      "query=\"Remote control extender\" clean=\"remot control extend\"\n",
      "query=\"Camcorder\" clean=\"camcord\"\n",
      "query=\"3ds\" clean=\"3ds\"\n",
      "query=\"hoya\" clean=\"hoya\"\n",
      "query=\"wireless headphones\" clean=\"wireless headphon\"\n",
      "query=\"wireless headphones\" clean=\"wireless headphon\"\n",
      "query=\"Samsung 40\" clean=\"samsung\"\n"
     ]
    },
    {
     "data": {
      "text/html": [
       "<div>\n",
       "<style scoped>\n",
       "    .dataframe tbody tr th:only-of-type {\n",
       "        vertical-align: middle;\n",
       "    }\n",
       "\n",
       "    .dataframe tbody tr th {\n",
       "        vertical-align: top;\n",
       "    }\n",
       "\n",
       "    .dataframe thead th {\n",
       "        text-align: right;\n",
       "    }\n",
       "</style>\n",
       "<table border=\"1\" class=\"dataframe\">\n",
       "  <thead>\n",
       "    <tr style=\"text-align: right;\">\n",
       "      <th></th>\n",
       "      <th>query</th>\n",
       "      <th>category</th>\n",
       "    </tr>\n",
       "  </thead>\n",
       "  <tbody>\n",
       "    <tr>\n",
       "      <th>0</th>\n",
       "      <td>television panason pulgada</td>\n",
       "      <td>abcat0101001</td>\n",
       "    </tr>\n",
       "    <tr>\n",
       "      <th>1</th>\n",
       "      <td>sharp</td>\n",
       "      <td>abcat0101001</td>\n",
       "    </tr>\n",
       "    <tr>\n",
       "      <th>2</th>\n",
       "      <td>nook</td>\n",
       "      <td>pcmcat193100050014</td>\n",
       "    </tr>\n",
       "    <tr>\n",
       "      <th>3</th>\n",
       "      <td>rca</td>\n",
       "      <td>abcat0101001</td>\n",
       "    </tr>\n",
       "    <tr>\n",
       "      <th>4</th>\n",
       "      <td>rca</td>\n",
       "      <td>abcat0101005</td>\n",
       "    </tr>\n",
       "  </tbody>\n",
       "</table>\n",
       "</div>"
      ],
      "text/plain": [
       "                        query            category\n",
       "0  television panason pulgada        abcat0101001\n",
       "1                       sharp        abcat0101001\n",
       "2                        nook  pcmcat193100050014\n",
       "3                         rca        abcat0101001\n",
       "4                         rca        abcat0101005"
      ]
     },
     "execution_count": 58,
     "metadata": {},
     "output_type": "execute_result"
    }
   ],
   "source": [
    "import utilities.functions as fn\n",
    "\n",
    "cleaned_queries = []\n",
    "\n",
    "for index, row in df.head(20).iterrows():\n",
    "    query = row[\"query\"]\n",
    "    #\n",
    "    # Clean the queries using shared function\n",
    "    #\n",
    "    normalized_query = fn.clean_query(query)\n",
    "    print('query=\"{0}\" clean=\"{1}\"'.format(query, normalized_query))\n",
    "    #\n",
    "    # Create new rows for cleaned queries\n",
    "    #\n",
    "    new_row = {};\n",
    "    new_row[\"query\"] = normalized_query;\n",
    "    new_row[\"category\"] = row[\"category\"]\n",
    "    clean_queries.append(new_row)\n",
    "    \n",
    "cleaned_queries_df = pd.DataFrame(clean_queries)\n",
    "cleaned_queries_df.head()"
   ]
  },
  {
   "cell_type": "code",
   "execution_count": 86,
   "id": "49c55b25-8721-4768-8326-a9f578d1da2b",
   "metadata": {},
   "outputs": [
    {
     "name": "stderr",
     "output_type": "stream",
     "text": [
      "Traceback (most recent call last):\n",
      "  File \"/workspace/search_with_machine_learning_course/week4/../week4/create_labeled_queries.py\", line 53, in <module>\n",
      "    df = pd.read_csv(queries_file_name)[['category', 'query']]\n",
      "  File \"/home/gitpod/.pyenv/versions/search_with_ml_week4/lib/python3.9/site-packages/pandas/util/_decorators.py\", line 311, in wrapper\n",
      "    return func(*args, **kwargs)\n",
      "  File \"/home/gitpod/.pyenv/versions/search_with_ml_week4/lib/python3.9/site-packages/pandas/io/parsers/readers.py\", line 680, in read_csv\n",
      "    return _read(filepath_or_buffer, kwds)\n",
      "  File \"/home/gitpod/.pyenv/versions/search_with_ml_week4/lib/python3.9/site-packages/pandas/io/parsers/readers.py\", line 581, in _read\n",
      "    return parser.read(nrows)\n",
      "  File \"/home/gitpod/.pyenv/versions/search_with_ml_week4/lib/python3.9/site-packages/pandas/io/parsers/readers.py\", line 1250, in read\n",
      "    index, columns, col_dict = self._engine.read(nrows)\n",
      "  File \"/home/gitpod/.pyenv/versions/search_with_ml_week4/lib/python3.9/site-packages/pandas/io/parsers/c_parser_wrapper.py\", line 225, in read\n",
      "    chunks = self._reader.read_low_memory(nrows)\n",
      "  File \"pandas/_libs/parsers.pyx\", line 805, in pandas._libs.parsers.TextReader.read_low_memory\n",
      "  File \"pandas/_libs/parsers.pyx\", line 861, in pandas._libs.parsers.TextReader._read_rows\n",
      "  File \"pandas/_libs/parsers.pyx\", line 847, in pandas._libs.parsers.TextReader._tokenize_rows\n",
      "  File \"pandas/_libs/parsers.pyx\", line 1960, in pandas._libs.parsers.raise_parser_error\n",
      "pandas.errors.ParserError: Error tokenizing data. C error: Calling read(nbytes) on source failed. Try engine='python'.\n"
     ]
    },
    {
     "name": "stdout",
     "output_type": "stream",
     "text": [
      "Error while terminating subprocess (pid=9358): \n"
     ]
    }
   ],
   "source": [
    "%%bash\n",
    "python ../week4/create_labeled_queries.py\n",
    "head -n 10 /workspace/datasets/labeled_query_data.txt\n",
    "wc -l /workspace/datasets/labeled_query_data.txt"
   ]
  },
  {
   "cell_type": "code",
   "execution_count": 82,
   "id": "1c1bee64-679b-48a7-9b6f-04f632f9f6d9",
   "metadata": {},
   "outputs": [
    {
     "data": {
      "text/html": [
       "<div>\n",
       "<style scoped>\n",
       "    .dataframe tbody tr th:only-of-type {\n",
       "        vertical-align: middle;\n",
       "    }\n",
       "\n",
       "    .dataframe tbody tr th {\n",
       "        vertical-align: top;\n",
       "    }\n",
       "\n",
       "    .dataframe thead th {\n",
       "        text-align: right;\n",
       "    }\n",
       "</style>\n",
       "<table border=\"1\" class=\"dataframe\">\n",
       "  <thead>\n",
       "    <tr style=\"text-align: right;\">\n",
       "      <th></th>\n",
       "      <th>category</th>\n",
       "      <th>parent</th>\n",
       "    </tr>\n",
       "  </thead>\n",
       "  <tbody>\n",
       "    <tr>\n",
       "      <th>0</th>\n",
       "      <td>abcat0010000</td>\n",
       "      <td>cat00000</td>\n",
       "    </tr>\n",
       "    <tr>\n",
       "      <th>1</th>\n",
       "      <td>abcat0011000</td>\n",
       "      <td>abcat0010000</td>\n",
       "    </tr>\n",
       "    <tr>\n",
       "      <th>2</th>\n",
       "      <td>abcat0011001</td>\n",
       "      <td>abcat0011000</td>\n",
       "    </tr>\n",
       "    <tr>\n",
       "      <th>3</th>\n",
       "      <td>abcat0011002</td>\n",
       "      <td>abcat0011000</td>\n",
       "    </tr>\n",
       "    <tr>\n",
       "      <th>4</th>\n",
       "      <td>abcat0011003</td>\n",
       "      <td>abcat0011000</td>\n",
       "    </tr>\n",
       "  </tbody>\n",
       "</table>\n",
       "</div>"
      ],
      "text/plain": [
       "       category        parent\n",
       "0  abcat0010000      cat00000\n",
       "1  abcat0011000  abcat0010000\n",
       "2  abcat0011001  abcat0011000\n",
       "3  abcat0011002  abcat0011000\n",
       "4  abcat0011003  abcat0011000"
      ]
     },
     "execution_count": 82,
     "metadata": {},
     "output_type": "execute_result"
    }
   ],
   "source": [
    "import pandas as pd\n",
    "import xml.etree.ElementTree as ET\n",
    "categories_file_name = r'/workspace/datasets/product_data/categories/categories_0001_abcat0010000_to_pcmcat99300050000.xml'\n",
    "root_category_id = 'cat00000'\n",
    "\n",
    "tree = ET.parse(categories_file_name)\n",
    "root = tree.getroot()\n",
    "\n",
    "# Parse the category XML file to map each category id to its parent category id in a dataframe.\n",
    "categories = []\n",
    "parents = []\n",
    "for child in root:\n",
    "    id = child.find('id').text\n",
    "    cat_path = child.find('path')\n",
    "    cat_path_ids = [cat.find('id').text for cat in cat_path]\n",
    "    leaf_id = cat_path_ids[-1]\n",
    "    if leaf_id != root_category_id:\n",
    "        categories.append(leaf_id)\n",
    "        parents.append(cat_path_ids[-2])\n",
    "parents_df = pd.DataFrame(list(zip(categories, parents)), columns =['category', 'parent'])\n",
    "\n",
    "parents_df.head()"
   ]
  },
  {
   "cell_type": "code",
   "execution_count": 98,
   "id": "4b6b0138-2f3b-4499-948d-2a4964685359",
   "metadata": {},
   "outputs": [
    {
     "name": "stdout",
     "output_type": "stream",
     "text": [
      "cat:pcmcat143200050016, size:2700, parent:pcmcat139900050002\n",
      "cat:abcat0101005, size:2084, parent:abcat0101000\n"
     ]
    }
   ],
   "source": [
    "def get_category_size(frame, category):\n",
    "    return frame[frame['category'] == category].size;\n",
    "\n",
    "def get_parent_category(frame, category):\n",
    "    return frame[frame['category'] == category]['parent'].item();\n",
    "\n",
    "for cat in test_categories:\n",
    "    print(\"cat:{0}, size:{1}, parent:{2}\".format(cat, get_category_size(df, cat), get_parent_category(parents_df, cat)))"
   ]
  },
  {
   "cell_type": "code",
   "execution_count": null,
   "id": "f3031804-aa7f-415a-8f2b-85fbec04f6e6",
   "metadata": {},
   "outputs": [],
   "source": []
  },
  {
   "cell_type": "code",
   "execution_count": null,
   "id": "21fbfe0a-2d3f-49d3-bcf3-8f264df7fee4",
   "metadata": {},
   "outputs": [],
   "source": []
  }
 ],
 "metadata": {
  "kernelspec": {
   "display_name": "Python 3 (ipykernel)",
   "language": "python",
   "name": "python3"
  },
  "language_info": {
   "codemirror_mode": {
    "name": "ipython",
    "version": 3
   },
   "file_extension": ".py",
   "mimetype": "text/x-python",
   "name": "python",
   "nbconvert_exporter": "python",
   "pygments_lexer": "ipython3",
   "version": "3.9.7"
  }
 },
 "nbformat": 4,
 "nbformat_minor": 5
}
