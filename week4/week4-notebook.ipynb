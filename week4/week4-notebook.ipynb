{
 "cells": [
  {
   "cell_type": "markdown",
   "id": "606cb5cb-2caa-4c0b-8f45-b5959e855a14",
   "metadata": {},
   "source": [
    "# Week 4 Notebook\n",
    "\n",
    "\n",
    "```\n",
    "Level 1: Query Classification\n",
    "\n",
    "Your first task is to generate training data that fastText can learn from. You’ve already worked with examples of parsing the category tree as XML, pruning the category tree to a maximum depth, and mapping the leaf category ids of queries to ancestor categories. Feel free to review these in the above reading materia!\n",
    "```"
   ]
  },
  {
   "cell_type": "markdown",
   "id": "0e78c485-315a-4b26-baa2-47c07e06b6a5",
   "metadata": {},
   "source": [
    "## Task 1: Prune the category taxonomy.\n",
    "Work on cleaning queries / stemming etc"
   ]
  },
  {
   "cell_type": "code",
   "execution_count": 158,
   "id": "71be5d41-6575-4eb0-879e-f54f027b15eb",
   "metadata": {},
   "outputs": [
    {
     "data": {
      "text/html": [
       "<div>\n",
       "<style scoped>\n",
       "    .dataframe tbody tr th:only-of-type {\n",
       "        vertical-align: middle;\n",
       "    }\n",
       "\n",
       "    .dataframe tbody tr th {\n",
       "        vertical-align: top;\n",
       "    }\n",
       "\n",
       "    .dataframe thead th {\n",
       "        text-align: right;\n",
       "    }\n",
       "</style>\n",
       "<table border=\"1\" class=\"dataframe\">\n",
       "  <thead>\n",
       "    <tr style=\"text-align: right;\">\n",
       "      <th></th>\n",
       "      <th>category</th>\n",
       "      <th>query</th>\n",
       "    </tr>\n",
       "  </thead>\n",
       "  <tbody>\n",
       "    <tr>\n",
       "      <th>0</th>\n",
       "      <td>abcat0101001</td>\n",
       "      <td>Televisiones Panasonic  50 pulgadas</td>\n",
       "    </tr>\n",
       "    <tr>\n",
       "      <th>1</th>\n",
       "      <td>abcat0101001</td>\n",
       "      <td>Sharp</td>\n",
       "    </tr>\n",
       "    <tr>\n",
       "      <th>2</th>\n",
       "      <td>pcmcat193100050014</td>\n",
       "      <td>nook</td>\n",
       "    </tr>\n",
       "    <tr>\n",
       "      <th>3</th>\n",
       "      <td>abcat0101001</td>\n",
       "      <td>rca</td>\n",
       "    </tr>\n",
       "    <tr>\n",
       "      <th>4</th>\n",
       "      <td>abcat0101005</td>\n",
       "      <td>rca</td>\n",
       "    </tr>\n",
       "  </tbody>\n",
       "</table>\n",
       "</div>"
      ],
      "text/plain": [
       "             category                                query\n",
       "0        abcat0101001  Televisiones Panasonic  50 pulgadas\n",
       "1        abcat0101001                                Sharp\n",
       "2  pcmcat193100050014                                 nook\n",
       "3        abcat0101001                                  rca\n",
       "4        abcat0101005                                  rca"
      ]
     },
     "execution_count": 158,
     "metadata": {},
     "output_type": "execute_result"
    }
   ],
   "source": [
    "import pandas as pd\n",
    "df = pd.read_csv('/workspace/datasets/train.csv')[['category', 'query']]\n",
    "df.head()"
   ]
  },
  {
   "cell_type": "markdown",
   "id": "52f556cd-ec5d-4c0f-b197-010fbc2195a9",
   "metadata": {},
   "source": [
    "### Write a stemmer for words"
   ]
  },
  {
   "cell_type": "code",
   "execution_count": 3,
   "id": "9b36bb98-ace4-4c1d-a83e-3ba2b63bee0a",
   "metadata": {},
   "outputs": [
    {
     "name": "stdout",
     "output_type": "stream",
     "text": [
      "query=\"Televisiones Panasonic  50 pulgadas\" clean=\"television panason 50 pulgada\"\n",
      "query=\"Sharp\" clean=\"sharp\"\n",
      "query=\"nook\" clean=\"nook\"\n",
      "query=\"rca\" clean=\"rca\"\n",
      "query=\"rca\" clean=\"rca\"\n",
      "query=\"Flat screen tvs\" clean=\"flat screen tv\"\n",
      "query=\"macbook\" clean=\"macbook\"\n",
      "query=\"Blue tooth headphones\" clean=\"blue tooth headphon\"\n",
      "query=\"Tv antenna\" clean=\"tv antenna\"\n",
      "query=\"memory card\" clean=\"memori card\"\n",
      "query=\"AC power cord\" clean=\"ac power cord\"\n",
      "query=\"Zagg iPhone\" clean=\"zagg iphon\"\n",
      "query=\"Watch The Throne\" clean=\"watch the throne\"\n",
      "query=\"Remote control extender\" clean=\"remot control extend\"\n",
      "query=\"Camcorder\" clean=\"camcord\"\n",
      "query=\"3ds\" clean=\"3d\"\n",
      "query=\"hoya\" clean=\"hoya\"\n",
      "query=\"wireless headphones\" clean=\"wireless headphon\"\n",
      "query=\"wireless headphones\" clean=\"wireless headphon\"\n",
      "query=\"Samsung 40\" clean=\"samsung 40\"\n"
     ]
    }
   ],
   "source": [
    "import utilities.functions as fn\n",
    "\n",
    "cleaned_queries = []\n",
    "\n",
    "for index, row in df.head(20).iterrows():\n",
    "    query = row[\"query\"]\n",
    "    #\n",
    "    # Clean the queries using shared function\n",
    "    #\n",
    "    normalized_query = fn.clean_query(query)\n",
    "    print('query=\"{0}\" clean=\"{1}\"'.format(query, normalized_query))\n",
    "    #\n",
    "    # Create new rows for cleaned queries\n",
    "    #\n",
    "    new_row = {};\n",
    "    new_row[\"query\"] = normalized_query;\n",
    "    new_row[\"category\"] = row[\"category\"]\n",
    "    cleaned_queries.append(new_row)\n",
    "    \n",
    "cleaned_queries_df = pd.DataFrame(cleaned_queries)"
   ]
  },
  {
   "cell_type": "markdown",
   "id": "574f4ae8-532e-49ce-b240-adb0bb74d4b0",
   "metadata": {},
   "source": [
    "### Implement the query cleaner and category roll up\n",
    "Through stemming and cleaning of categories we get a much cleaner dataset"
   ]
  },
  {
   "cell_type": "code",
   "execution_count": 25,
   "id": "49c55b25-8721-4768-8326-a9f578d1da2b",
   "metadata": {},
   "outputs": [
    {
     "name": "stdout",
     "output_type": "stream",
     "text": [
      "> cleaning_queries\n",
      "> checking for min_queries\n",
      "> original unique categories=1451\n",
      "> final categories=776\n",
      "__label__abcat0102003 blu ray player\n",
      "__label__abcat0201011 ipod\n",
      "__label__cat02015 tae guk gi\n",
      "__label__pcmcat180400050000 canon camera\n",
      "__label__pcmcat209000050008 hp touchpad\n",
      "__label__cat02002 the sim\n",
      "__label__pcmcat209000050007 dryer\n",
      "__label__abcat0101001 lcd tv\n",
      "__label__abcat0403000 gopro\n",
      "__label__pcmcat183800050007 usb car adapt\n",
      "994279 /workspace/datasets/labeled_query_data.txt\n"
     ]
    }
   ],
   "source": [
    "%%bash\n",
    "python ../week4/create_labeled_queries.py --min_queries=200\n",
    "head -n 10 /workspace/datasets/labeled_query_data.txt\n",
    "wc -l /workspace/datasets/labeled_query_data.txt"
   ]
  },
  {
   "cell_type": "markdown",
   "id": "f9a78283-638c-4ba2-b74c-8eaba190d3ff",
   "metadata": {},
   "source": [
    "## Task 2: Train a query classifier.\n",
    "Use the labeled data to build a fast test model"
   ]
  },
  {
   "cell_type": "code",
   "execution_count": 27,
   "id": "1135daae-a196-49e3-91ed-98d280ff5df1",
   "metadata": {},
   "outputs": [
    {
     "name": "stdout",
     "output_type": "stream",
     "text": [
      "Training data\n",
      "__label__abcat0102003 blu ray player\n",
      "__label__abcat0201011 ipod\n",
      "__label__cat02015 tae guk gi\n",
      "__label__pcmcat180400050000 canon camera\n",
      "__label__pcmcat209000050008 hp touchpad\n",
      "__label__cat02002 the sim\n",
      "__label__pcmcat209000050007 dryer\n",
      "__label__abcat0101001 lcd tv\n",
      "__label__abcat0403000 gopro\n",
      "__label__pcmcat183800050007 usb car adapt\n",
      "Test data\n",
      "__label__pcmcat174700050005 star war\n",
      "__label__cat09000 tmnt\n",
      "__label__cat02719 t pain\n",
      "__label__abcat0515028 laptop case\n",
      "__label__cat02015 land befor time\n",
      "__label__cat02015 barbi\n",
      "__label__abcat0807001 epson photo\n",
      "__label__pcmcat180400050000 digit camera\n",
      "__label__pcmcat158900050018 lcd projector\n",
      "__label__pcmcat246100050002 bluetooth\n"
     ]
    },
    {
     "name": "stderr",
     "output_type": "stream",
     "text": [
      "Read 0M words\n",
      "Number of words:  683\n",
      "Number of labels: 672\n",
      "Progress: 100.0% words/sec/thread:   28668 lr:  0.000000 avg.loss:  1.611424 ETA:   0h 0m 0s\n"
     ]
    },
    {
     "name": "stdout",
     "output_type": "stream",
     "text": [
      "p@1 test\n",
      "N\t9941\n",
      "P@1\t0.435\n",
      "R@1\t0.435\n",
      "p@5 test\n",
      "N\t9941\n",
      "P@5\t0.125\n",
      "R@5\t0.623\n"
     ]
    }
   ],
   "source": [
    "%%bash\n",
    "./create_qu_model.sh"
   ]
  },
  {
   "cell_type": "markdown",
   "id": "283b2f07-4b96-408d-a533-d098e33b3b4a",
   "metadata": {},
   "source": [
    "## Updating labels\n",
    "Wanting higher P&R updating my training data to require queries to have more min_queries"
   ]
  },
  {
   "cell_type": "code",
   "execution_count": 28,
   "id": "192ade09-f0cc-4c21-9da1-b02b0dd16972",
   "metadata": {},
   "outputs": [
    {
     "name": "stdout",
     "output_type": "stream",
     "text": [
      "> cleaning_queries\n",
      "> checking for min_queries\n",
      "> original unique categories=1453\n",
      "> final categories=502\n",
      "__label__abcat0811004 g2 batteri\n",
      "__label__pcmcat162100050040 virgin mobil\n",
      "__label__abcat0208007 lcd\n",
      "__label__pcmcat186100050006 extern hard drive\n",
      "__label__pcmcat174700050005 age of empir\n",
      "__label__abcat0511004 wireless printer\n",
      "__label__pcmcat209000050007 ipad\n",
      "__label__cat02716 ugk\n",
      "__label__pcmcat156300050010 fridg\n",
      "__label__pcmcat247400050001 macbook\n",
      "994302 /workspace/datasets/labeled_query_data.txt\n"
     ]
    }
   ],
   "source": [
    "%%bash\n",
    "python ../week4/create_labeled_queries.py --min_queries=1000\n",
    "head -n 10 /workspace/datasets/labeled_query_data.txt\n",
    "wc -l /workspace/datasets/labeled_query_data.txt"
   ]
  },
  {
   "cell_type": "code",
   "execution_count": 30,
   "id": "200cc7db-2efc-48fb-88cc-b82aa15b86da",
   "metadata": {},
   "outputs": [
    {
     "name": "stdout",
     "output_type": "stream",
     "text": [
      "Training data\n",
      "__label__abcat0811004 g2 batteri\n",
      "__label__pcmcat162100050040 virgin mobil\n",
      "__label__abcat0208007 lcd\n",
      "__label__pcmcat186100050006 extern hard drive\n",
      "__label__pcmcat174700050005 age of empir\n",
      "__label__abcat0511004 wireless printer\n",
      "__label__pcmcat209000050007 ipad\n",
      "__label__cat02716 ugk\n",
      "__label__pcmcat156300050010 fridg\n",
      "__label__pcmcat247400050001 macbook\n",
      "Test data\n",
      "__label__abcat0206001 zx99i\n",
      "__label__abcat0503002 router\n",
      "__label__cat02015 big bang theori season four\n",
      "__label__abcat0401004 olympu camera\n",
      "__label__abcat0508018 roxio\n",
      "__label__abcat0701001 xbox 360 consul\n",
      "__label__cat02015 mont carlo\n",
      "__label__pcmcat247400050000 hp laptop\n",
      "__label__pcmcat209000050008 htc flyer\n",
      "__label__cat02015 the big bang theori\n"
     ]
    },
    {
     "name": "stderr",
     "output_type": "stream",
     "text": [
      "Read 0M words\n",
      "Number of words:  733\n",
      "Number of labels: 429\n",
      "Progress: 100.0% words/sec/thread:   29430 lr:  0.000000 avg.loss:  1.777434 ETA:   0h 0m 0s\n"
     ]
    },
    {
     "name": "stdout",
     "output_type": "stream",
     "text": [
      "p@1 test\n",
      "N\t9966\n",
      "P@1\t0.451\n",
      "R@1\t0.451\n",
      "p@5 test\n",
      "N\t9966\n",
      "P@5\t0.129\n",
      "R@5\t0.645\n"
     ]
    }
   ],
   "source": [
    "%%bash\n",
    "./create_qu_model.sh"
   ]
  },
  {
   "cell_type": "code",
   "execution_count": 31,
   "id": "ef2c7d43-0c07-4c2a-8713-c890842160af",
   "metadata": {},
   "outputs": [
    {
     "data": {
      "text/html": [
       "<div>\n",
       "<style scoped>\n",
       "    .dataframe tbody tr th:only-of-type {\n",
       "        vertical-align: middle;\n",
       "    }\n",
       "\n",
       "    .dataframe tbody tr th {\n",
       "        vertical-align: top;\n",
       "    }\n",
       "\n",
       "    .dataframe thead th {\n",
       "        text-align: right;\n",
       "    }\n",
       "</style>\n",
       "<table border=\"1\" class=\"dataframe\">\n",
       "  <thead>\n",
       "    <tr style=\"text-align: right;\">\n",
       "      <th></th>\n",
       "      <th>category</th>\n",
       "      <th>query</th>\n",
       "    </tr>\n",
       "  </thead>\n",
       "  <tbody>\n",
       "    <tr>\n",
       "      <th>0</th>\n",
       "      <td>abcat0101001</td>\n",
       "      <td>Televisiones Panasonic  50 pulgadas</td>\n",
       "    </tr>\n",
       "    <tr>\n",
       "      <th>1</th>\n",
       "      <td>abcat0101001</td>\n",
       "      <td>Sharp</td>\n",
       "    </tr>\n",
       "    <tr>\n",
       "      <th>2</th>\n",
       "      <td>pcmcat193100050014</td>\n",
       "      <td>nook</td>\n",
       "    </tr>\n",
       "    <tr>\n",
       "      <th>3</th>\n",
       "      <td>abcat0101001</td>\n",
       "      <td>rca</td>\n",
       "    </tr>\n",
       "    <tr>\n",
       "      <th>4</th>\n",
       "      <td>abcat0101005</td>\n",
       "      <td>rca</td>\n",
       "    </tr>\n",
       "  </tbody>\n",
       "</table>\n",
       "</div>"
      ],
      "text/plain": [
       "             category                                query\n",
       "0        abcat0101001  Televisiones Panasonic  50 pulgadas\n",
       "1        abcat0101001                                Sharp\n",
       "2  pcmcat193100050014                                 nook\n",
       "3        abcat0101001                                  rca\n",
       "4        abcat0101005                                  rca"
      ]
     },
     "execution_count": 31,
     "metadata": {},
     "output_type": "execute_result"
    }
   ],
   "source": [
    "df.head()"
   ]
  },
  {
   "cell_type": "code",
   "execution_count": 157,
   "id": "7dc92831-dcfb-4702-927e-712a81a5c242",
   "metadata": {},
   "outputs": [
    {
     "name": "stdout",
     "output_type": "stream",
     "text": [
      "               category             parent\n",
      "0          abcat0010000           cat00000\n",
      "1          abcat0011000       abcat0010000\n",
      "2          abcat0011001       abcat0011000\n",
      "3          abcat0011002       abcat0011000\n",
      "4          abcat0011003       abcat0011000\n",
      "...                 ...                ...\n",
      "4634  pcmcat97200050013           cat15205\n",
      "4635  pcmcat97200050015           cat15063\n",
      "4636  pcmcat99000050001  pcmcat50000050006\n",
      "4637  pcmcat99000050002  pcmcat99000050001\n",
      "4638  pcmcat99300050000           cat15063\n",
      "\n",
      "[4639 rows x 2 columns]\n"
     ]
    }
   ],
   "source": [
    "import xml.etree.ElementTree as ET\n",
    "import pandas as pd\n",
    "root_category_id = 'cat00000'\n",
    "\n",
    "tree = ET.parse('/workspace/datasets/product_data/categories/categories_0001_abcat0010000_to_pcmcat99300050000.xml')\n",
    "root = tree.getroot()\n",
    "\n",
    "categories = []\n",
    "parents = []\n",
    "for child in root:\n",
    "    id = child.find('id').text\n",
    "    cat_path = child.find('path')\n",
    "    cat_path_ids = [cat.find('id').text for cat in cat_path]\n",
    "    leaf_id = cat_path_ids[-1]\n",
    "    if leaf_id != root_category_id:\n",
    "        categories.append(leaf_id)\n",
    "        parents.append(cat_path_ids[-2])\n",
    "parents_df = pd.DataFrame(list(zip(categories, parents)), columns =['category', 'parent'])\n",
    "\n",
    "print(parents_df)"
   ]
  },
  {
   "cell_type": "code",
   "execution_count": 159,
   "id": "a057183c-9e81-48c5-8043-cfa384f303fb",
   "metadata": {},
   "outputs": [
    {
     "name": "stdout",
     "output_type": "stream",
     "text": [
      "cat02015              177638\n",
      "abcat0101001           80213\n",
      "pcmcat247400050000     79245\n",
      "pcmcat209000050008     74258\n",
      "pcmcat144700050004     43991\n",
      "                       ...  \n",
      "pcmcat230600050054         1\n",
      "pcmcat230600050036         1\n",
      "pcmcat221400050012         1\n",
      "pcmcat254000050002         1\n",
      "pcmcat221400050013         1\n",
      "Name: category, Length: 1540, dtype: int64\n"
     ]
    }
   ],
   "source": [
    "cat_value_counts = df['category'].value_counts()\n",
    "\n",
    "print(cat_value_counts)"
   ]
  },
  {
   "cell_type": "code",
   "execution_count": 161,
   "id": "25303b51-d010-455a-a00a-8fc9f92fdffa",
   "metadata": {},
   "outputs": [
    {
     "name": "stdout",
     "output_type": "stream",
     "text": [
      "\n",
      "1\n",
      "no_match size= 1 parent= pcmcat221400050011\n",
      "no_match size= 0 parent= pcmcat151600050019\n",
      "no_match size= 0 parent= abcat0207000\n",
      "no_match size= 0 parent= cat00000\n"
     ]
    },
    {
     "ename": "ValueError",
     "evalue": "can only convert an array of size 1 to a Python scalar",
     "output_type": "error",
     "traceback": [
      "\u001b[0;31m---------------------------------------------------------------------------\u001b[0m",
      "\u001b[0;31mValueError\u001b[0m                                Traceback (most recent call last)",
      "Input \u001b[0;32mIn [161]\u001b[0m, in \u001b[0;36m<cell line: 31>\u001b[0;34m()\u001b[0m\n\u001b[1;32m     27\u001b[0m         \u001b[38;5;28;01mreturn\u001b[39;00m x\n\u001b[1;32m     30\u001b[0m \u001b[38;5;28mprint\u001b[39m(\u001b[38;5;124m\"\u001b[39m\u001b[38;5;124m\"\u001b[39m)\n\u001b[0;32m---> 31\u001b[0m \u001b[38;5;28mprint\u001b[39m(\u001b[43mfirst_min_queries_match\u001b[49m\u001b[43m(\u001b[49m\u001b[38;5;124;43m'\u001b[39;49m\u001b[38;5;124;43mpcmcat221400050012\u001b[39;49m\u001b[38;5;124;43m'\u001b[39;49m\u001b[43m)\u001b[49m)\n",
      "Input \u001b[0;32mIn [161]\u001b[0m, in \u001b[0;36mfirst_min_queries_match\u001b[0;34m(x)\u001b[0m\n\u001b[1;32m     24\u001b[0m \u001b[38;5;28mprint\u001b[39m(\u001b[38;5;124m'\u001b[39m\u001b[38;5;124mno_match\u001b[39m\u001b[38;5;124m'\u001b[39m, \u001b[38;5;124m'\u001b[39m\u001b[38;5;124msize=\u001b[39m\u001b[38;5;124m'\u001b[39m, size, \u001b[38;5;124m'\u001b[39m\u001b[38;5;124mparent=\u001b[39m\u001b[38;5;124m'\u001b[39m, parent)\n\u001b[1;32m     25\u001b[0m \u001b[38;5;28;01mif\u001b[39;00m parent:\n\u001b[0;32m---> 26\u001b[0m     \u001b[38;5;28;01mreturn\u001b[39;00m \u001b[43mfirst_min_queries_match\u001b[49m\u001b[43m(\u001b[49m\u001b[43mparent\u001b[49m\u001b[43m)\u001b[49m\n\u001b[1;32m     27\u001b[0m \u001b[38;5;28;01mreturn\u001b[39;00m x\n",
      "Input \u001b[0;32mIn [161]\u001b[0m, in \u001b[0;36mfirst_min_queries_match\u001b[0;34m(x)\u001b[0m\n\u001b[1;32m     24\u001b[0m \u001b[38;5;28mprint\u001b[39m(\u001b[38;5;124m'\u001b[39m\u001b[38;5;124mno_match\u001b[39m\u001b[38;5;124m'\u001b[39m, \u001b[38;5;124m'\u001b[39m\u001b[38;5;124msize=\u001b[39m\u001b[38;5;124m'\u001b[39m, size, \u001b[38;5;124m'\u001b[39m\u001b[38;5;124mparent=\u001b[39m\u001b[38;5;124m'\u001b[39m, parent)\n\u001b[1;32m     25\u001b[0m \u001b[38;5;28;01mif\u001b[39;00m parent:\n\u001b[0;32m---> 26\u001b[0m     \u001b[38;5;28;01mreturn\u001b[39;00m \u001b[43mfirst_min_queries_match\u001b[49m\u001b[43m(\u001b[49m\u001b[43mparent\u001b[49m\u001b[43m)\u001b[49m\n\u001b[1;32m     27\u001b[0m \u001b[38;5;28;01mreturn\u001b[39;00m x\n",
      "    \u001b[0;31m[... skipping similar frames: first_min_queries_match at line 26 (1 times)]\u001b[0m\n",
      "Input \u001b[0;32mIn [161]\u001b[0m, in \u001b[0;36mfirst_min_queries_match\u001b[0;34m(x)\u001b[0m\n\u001b[1;32m     24\u001b[0m \u001b[38;5;28mprint\u001b[39m(\u001b[38;5;124m'\u001b[39m\u001b[38;5;124mno_match\u001b[39m\u001b[38;5;124m'\u001b[39m, \u001b[38;5;124m'\u001b[39m\u001b[38;5;124msize=\u001b[39m\u001b[38;5;124m'\u001b[39m, size, \u001b[38;5;124m'\u001b[39m\u001b[38;5;124mparent=\u001b[39m\u001b[38;5;124m'\u001b[39m, parent)\n\u001b[1;32m     25\u001b[0m \u001b[38;5;28;01mif\u001b[39;00m parent:\n\u001b[0;32m---> 26\u001b[0m     \u001b[38;5;28;01mreturn\u001b[39;00m \u001b[43mfirst_min_queries_match\u001b[49m\u001b[43m(\u001b[49m\u001b[43mparent\u001b[49m\u001b[43m)\u001b[49m\n\u001b[1;32m     27\u001b[0m \u001b[38;5;28;01mreturn\u001b[39;00m x\n",
      "Input \u001b[0;32mIn [161]\u001b[0m, in \u001b[0;36mfirst_min_queries_match\u001b[0;34m(x)\u001b[0m\n\u001b[1;32m     21\u001b[0m     \u001b[38;5;28;01mreturn\u001b[39;00m x\n\u001b[1;32m     22\u001b[0m \u001b[38;5;28;01melse\u001b[39;00m:\n\u001b[0;32m---> 23\u001b[0m     parent \u001b[38;5;241m=\u001b[39m \u001b[43mget_parent_category\u001b[49m\u001b[43m(\u001b[49m\u001b[43mparents_df\u001b[49m\u001b[43m,\u001b[49m\u001b[43m \u001b[49m\u001b[43mx\u001b[49m\u001b[43m)\u001b[49m;\n\u001b[1;32m     24\u001b[0m     \u001b[38;5;28mprint\u001b[39m(\u001b[38;5;124m'\u001b[39m\u001b[38;5;124mno_match\u001b[39m\u001b[38;5;124m'\u001b[39m, \u001b[38;5;124m'\u001b[39m\u001b[38;5;124msize=\u001b[39m\u001b[38;5;124m'\u001b[39m, size, \u001b[38;5;124m'\u001b[39m\u001b[38;5;124mparent=\u001b[39m\u001b[38;5;124m'\u001b[39m, parent)\n\u001b[1;32m     25\u001b[0m     \u001b[38;5;28;01mif\u001b[39;00m parent:\n",
      "Input \u001b[0;32mIn [161]\u001b[0m, in \u001b[0;36mget_parent_category\u001b[0;34m(frame, category)\u001b[0m\n\u001b[1;32m     11\u001b[0m \u001b[38;5;28;01mdef\u001b[39;00m \u001b[38;5;21mget_parent_category\u001b[39m(frame, category):\n\u001b[0;32m---> 12\u001b[0m     \u001b[38;5;28;01mreturn\u001b[39;00m \u001b[43mframe\u001b[49m\u001b[43m[\u001b[49m\u001b[43mframe\u001b[49m\u001b[43m[\u001b[49m\u001b[38;5;124;43m'\u001b[39;49m\u001b[38;5;124;43mcategory\u001b[39;49m\u001b[38;5;124;43m'\u001b[39;49m\u001b[43m]\u001b[49m\u001b[43m \u001b[49m\u001b[38;5;241;43m==\u001b[39;49m\u001b[43m \u001b[49m\u001b[43mcategory\u001b[49m\u001b[43m]\u001b[49m\u001b[43m[\u001b[49m\u001b[38;5;124;43m'\u001b[39;49m\u001b[38;5;124;43mparent\u001b[39;49m\u001b[38;5;124;43m'\u001b[39;49m\u001b[43m]\u001b[49m\u001b[38;5;241;43m.\u001b[39;49m\u001b[43mitem\u001b[49m\u001b[43m(\u001b[49m\u001b[43m)\u001b[49m\n",
      "File \u001b[0;32m~/.pyenv/versions/3.9.7/envs/search_with_ml_week4/lib/python3.9/site-packages/pandas/core/base.py:349\u001b[0m, in \u001b[0;36mIndexOpsMixin.item\u001b[0;34m(self)\u001b[0m\n\u001b[1;32m    347\u001b[0m \u001b[38;5;28;01mif\u001b[39;00m \u001b[38;5;28mlen\u001b[39m(\u001b[38;5;28mself\u001b[39m) \u001b[38;5;241m==\u001b[39m \u001b[38;5;241m1\u001b[39m:\n\u001b[1;32m    348\u001b[0m     \u001b[38;5;28;01mreturn\u001b[39;00m \u001b[38;5;28mnext\u001b[39m(\u001b[38;5;28miter\u001b[39m(\u001b[38;5;28mself\u001b[39m))\n\u001b[0;32m--> 349\u001b[0m \u001b[38;5;28;01mraise\u001b[39;00m \u001b[38;5;167;01mValueError\u001b[39;00m(\u001b[38;5;124m\"\u001b[39m\u001b[38;5;124mcan only convert an array of size 1 to a Python scalar\u001b[39m\u001b[38;5;124m\"\u001b[39m)\n",
      "\u001b[0;31mValueError\u001b[0m: can only convert an array of size 1 to a Python scalar"
     ]
    }
   ],
   "source": [
    "test = 'pcmcat230600050054';\n",
    "\n",
    "def get_category_size(category):\n",
    "    dict = cat_value_counts.to_dict()\n",
    "    if category in dict:\n",
    "        print(dict[category])\n",
    "        return dict[category]\n",
    "    else:\n",
    "        return 0\n",
    "\n",
    "def get_parent_category(frame, category):\n",
    "    return frame[frame['category'] == category]['parent'].item();    \n",
    "\n",
    "    \n",
    "# first_min_queries_match(test)\n",
    "\n",
    "def first_min_queries_match(x):\n",
    "    size = get_category_size(x)\n",
    "    \n",
    "    if size > 2:\n",
    "        return x\n",
    "    else:\n",
    "        parent = get_parent_category(parents_df, x);\n",
    "        print('no_match', 'size=', size, 'parent=', parent)\n",
    "        if parent:\n",
    "            return first_min_queries_match(parent)\n",
    "        return x\n",
    "\n",
    "\n",
    "print(\"\")\n",
    "print(first_min_queries_match('pcmcat221400050012'))\n",
    "\n",
    "# def first_min_queries_match(cat):\n",
    "#     condition = get_category_size(cat) >= 10000\n",
    "#     print(condition)\n",
    "#     while not condition:\n",
    "#         print('swag')\n",
    "#         parent = get_parent_category(cat)\n",
    "#         print(parent)\n",
    "        \n",
    "        \n",
    "# first_min_queries_match(test)\n",
    "#     cat_parent = get_parent_categoy(parents_df, cat)\n",
    "    \n",
    "#     return [cat_size, cat_parent]\n",
    "    \n",
    "    \n",
    "#     # while get_category_size(cat) < 10000\n",
    "#     #     first_min_queries_match(cat)\n",
    "    \n",
    "\n",
    "\n"
   ]
  },
  {
   "cell_type": "code",
   "execution_count": 131,
   "id": "7d8b7779-9ffd-4916-9759-8258e07e4a49",
   "metadata": {},
   "outputs": [
    {
     "name": "stdout",
     "output_type": "stream",
     "text": [
      "cat02015              177638\n",
      "abcat0101001           80213\n",
      "pcmcat247400050000     79245\n",
      "pcmcat209000050008     74258\n",
      "pcmcat144700050004     43991\n",
      "                       ...  \n",
      "pcmcat230600050054         1\n",
      "pcmcat230600050036         1\n",
      "pcmcat221400050012         1\n",
      "pcmcat254000050002         1\n",
      "pcmcat221400050013         1\n",
      "Name: category, Length: 1540, dtype: int64\n"
     ]
    },
    {
     "data": {
      "text/plain": [
       "1"
      ]
     },
     "execution_count": 131,
     "metadata": {},
     "output_type": "execute_result"
    }
   ],
   "source": [
    "print(cat_value_counts);\n",
    "cat_value_counts.index.tolist().index('abcat0101001')"
   ]
  },
  {
   "cell_type": "code",
   "execution_count": 147,
   "id": "2cbf5c19-dd5a-4425-9c05-c1b3c1cca138",
   "metadata": {},
   "outputs": [
    {
     "name": "stdout",
     "output_type": "stream",
     "text": [
      "swag\n"
     ]
    }
   ],
   "source": [
    "dict = cat_value_counts.to_dict()\n",
    "\n",
    "if 'cat02015' in dict:\n",
    "    print('swag')"
   ]
  },
  {
   "cell_type": "code",
   "execution_count": null,
   "id": "dd822555-94f6-4591-8b98-fb32470372e3",
   "metadata": {},
   "outputs": [],
   "source": []
  }
 ],
 "metadata": {
  "kernelspec": {
   "display_name": "Python 3 (ipykernel)",
   "language": "python",
   "name": "python3"
  },
  "language_info": {
   "codemirror_mode": {
    "name": "ipython",
    "version": 3
   },
   "file_extension": ".py",
   "mimetype": "text/x-python",
   "name": "python",
   "nbconvert_exporter": "python",
   "pygments_lexer": "ipython3",
   "version": "3.9.7"
  }
 },
 "nbformat": 4,
 "nbformat_minor": 5
}
